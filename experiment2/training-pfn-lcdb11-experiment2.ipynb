{
 "metadata": {
  "kernelspec": {
   "name": "python3",
   "display_name": "Python 3",
   "language": "python"
  },
  "language_info": {
   "name": "python",
   "version": "3.11.11",
   "mimetype": "text/x-python",
   "codemirror_mode": {
    "name": "ipython",
    "version": 3
   },
   "pygments_lexer": "ipython3",
   "nbconvert_exporter": "python",
   "file_extension": ".py"
  },
  "kaggle": {
   "accelerator": "gpu",
   "dataSources": [
    {
     "sourceId": 11627966,
     "sourceType": "datasetVersion",
     "datasetId": 7295287
    },
    {
     "sourceId": 11628086,
     "sourceType": "datasetVersion",
     "datasetId": 7295371
    }
   ],
   "dockerImageVersionId": 31012,
   "isInternetEnabled": false,
   "language": "python",
   "sourceType": "notebook",
   "isGpuEnabled": true
  }
 },
 "nbformat_minor": 5,
 "nbformat": 4,
 "cells": [
  {
   "id": "494c5b6a-0cfa-4f79-9bb2-1f33c24a47e1",
   "cell_type": "code",
   "source": [
    "import h5py\n",
    "import numpy as np\n",
    "import torch\n",
    "import random\n",
    "import matplotlib.pyplot as plt\n",
    "import pandas as pd\n",
    "import math\n",
    "from sklearn.model_selection import train_test_split\n",
    "import warnings\n",
    "warnings.filterwarnings('ignore')\n",
    "\n",
    "import lcpfn \n",
    "from lcpfn import bar_distribution, encoders\n",
    "from lcpfn import train as lctrain\n",
    "\n",
    "# create folder\n",
    "import sys\n",
    "import os\n",
    "main_path = os.path.abspath(os.path.join(os.getcwd(), ''))\n",
    "if main_path not in sys.path:\n",
    "    sys.path.insert(0, main_path)\n",
    "\n",
    "print(f\"Project path: {main_path}\")\n",
    "\n",
    "TRAINING_NAME = 'training-experiment1'\n",
    "experiments_path = f\"{main_path}/{TRAINING_NAME}\"\n",
    "os.makedirs(experiments_path, exist_ok=True)"
   ],
   "metadata": {
    "trusted": true,
    "execution": {
     "iopub.status.busy": "2025-06-17T13:58:06.609815Z",
     "iopub.execute_input": "2025-06-17T13:58:06.610165Z",
     "iopub.status.idle": "2025-06-17T13:58:07.631206Z",
     "shell.execute_reply.started": "2025-06-17T13:58:06.610143Z",
     "shell.execute_reply": "2025-06-17T13:58:07.630448Z"
    }
   },
   "outputs": [
    {
     "name": "stdout",
     "output_type": "stream",
     "text": [
      "Project path: C:\\Users\\adeli\\OneDrive\\Desktop\\facultate\\4th year\\Research Project\\Extrapolating-Learning-Curves-When-Do-Neural-Networks-Outperform-Parametric-Models-\\experiment2\n"
     ]
    }
   ],
   "execution_count": 1
  },
  {
   "id": "a31317b2",
   "cell_type": "markdown",
   "source": [
    "### Load LCDB 1.1 data"
   ],
   "metadata": {}
  },
  {
   "id": "fab69730",
   "cell_type": "code",
   "source": [
    "### hyperparameter\n",
    "OPENML_ID = {0: '3', 1: '6', 2: '11', 3: '12', 4: '13', 5: '14', 6: '15', 7: '16', 8: '18', 9: '21', 10: '22', 11: '23', 12: '24', 13: '26', 14: '28', 15: '29', 16: '30', 17: '31', 18: '32', 19: '36', 20: '37', 21: '38', 22: '44', 23: '46', 24: '50', 25: '54', 26: '55', 27: '57', 28: '60', 29: '61', 30: '151', 31: '179', 32: '180', 33: '181', 34: '182', 35: '184', 36: '185', 37: '188', 38: '201', 39: '273', 40: '293', 41: '299', 42: '300', 43: '307', 44: '336', 45: '346', 46: '351', 47: '354', 48: '357', 49: '380', 50: '389', 51: '390', 52: '391', 53: '392', 54: '393', 55: '395', 56: '396', 57: '398', 58: '399', 59: '401', 60: '446', 61: '458', 62: '469', 63: '554', 64: '679', 65: '715', 66: '718', 67: '720', 68: '722', 69: '723', 70: '727', 71: '728', 72: '734', 73: '735', 74: '737', 75: '740', 76: '741', 77: '743', 78: '751', 79: '752', 80: '761', 81: '772', 82: '797', 83: '799', 84: '803', 85: '806', 86: '807', 87: '813', 88: '816', 89: '819', 90: '821', 91: '822', 92: '823', 93: '833', 94: '837', 95: '843', 96: '845', 97: '846', 98: '847', 99: '849', 100: '866', 101: '871', 102: '881', 103: '897', 104: '901', 105: '903', 106: '904', 107: '910', 108: '912', 109: '913', 110: '914', 111: '917', 112: '923', 113: '930', 114: '934', 115: '953', 116: '958', 117: '959', 118: '962', 119: '966', 120: '971', 121: '976', 122: '977', 123: '978', 124: '979', 125: '980', 126: '991', 127: '993', 128: '995', 129: '1000', 130: '1002', 131: '1018', 132: '1019', 133: '1020', 134: '1021', 135: '1036', 136: '1040', 137: '1041', 138: '1042', 139: '1049', 140: '1050', 141: '1053', 142: '1056', 143: '1063', 144: '1067', 145: '1068', 146: '1069', 147: '1083', 148: '1084', 149: '1085', 150: '1086', 151: '1087', 152: '1088', 153: '1116', 154: '1119', 155: '1120', 156: '1128', 157: '1130', 158: '1134', 159: '1138', 160: '1139', 161: '1142', 162: '1146', 163: '1161', 164: '1166', 165: '1216', 166: '1233', 167: '1235', 168: '1236', 169: '1441', 170: '1448', 171: '1450', 172: '1457', 173: '1461', 174: '1462', 175: '1464', 176: '1465', 177: '1468', 178: '1475', 179: '1477', 180: '1478', 181: '1479', 182: '1480', 183: '1483', 184: '1485', 185: '1486', 186: '1487', 187: '1488', 188: '1489', 189: '1494', 190: '1497', 191: '1499', 192: '1501', 193: '1503', 194: '1509', 195: '1510', 196: '1515', 197: '1566', 198: '1567', 199: '1575', 200: '1590', 201: '1592', 202: '1597', 203: '4134', 204: '4135', 205: '4137', 206: '4534', 207: '4538', 208: '4541', 209: '6332', 210: '23381', 211: '23512', 212: '23517', 213: '40498', 214: '40499', 215: '40664', 216: '40668', 217: '40670', 218: '40672', 219: '40677', 220: '40685', 221: '40687', 222: '40701', 223: '40713', 224: '40900', 225: '40910', 226: '40923', 227: '40927', 228: '40966', 229: '40971', 230: '40975', 231: '40978', 232: '40979', 233: '40981', 234: '40982', 235: '40983', 236: '40984', 237: '40994', 238: '40996', 239: '41027', 240: '41142', 241: '41143', 242: '41144', 243: '41145', 244: '41146', 245: '41150', 246: '41156', 247: '41157', 248: '41158', 249: '41159', 250: '41161', 251: '41163', 252: '41164', 253: '41165', 254: '41166', 255: '41167', 256: '41168', 257: '41169', 258: '41228', 259: '41972', 260: '42734', 261: '42742', 262: '42769', 263: '42809', 264: '42810'}\n",
    "LEARNER_ZOO = {0: 'SVC_linear', 1: 'SVC_poly', 2: 'SVC_rbf', 3: 'SVC_sigmoid', 4: 'Decision Trees', 5: 'ExtraTrees', 6: 'LogisticRegression', 7: 'PassiveAggressive', 8: 'Perceptron', 9: 'RidgeClassifier', 10: 'SGDClassifier', 11: 'MLP', 12: 'LDA', 13: 'QDA', 14: 'BernoulliNB', 15: 'MultinomialNB', 16: 'ComplementNB', 17: 'GaussianNB', 18: 'KNN', 19: 'NearestCentroid', 20: 'ens.ExtraTrees', 21: 'ens.RandomForest', 22: 'ens.GradientBoosting', 23: 'DummyClassifier'}\n",
    "ANCHOR_SIZE = np.ceil(16 * 2 ** ((np.arange(137)) / 8)).astype(int)\n",
    "\n",
    "### load data: validation accuracy\n",
    "lc_data = h5py.File('../LCDB11_ACC_265_noFS_raw_compress.hdf5', 'r')['accuracy'][...][:,:,:,:,:,1]\n",
    "\n",
    "mean_valid_lc_nofs =np.nanmean(lc_data, axis=(2, 3))"
   ],
   "metadata": {
    "trusted": true,
    "execution": {
     "iopub.status.busy": "2025-06-17T13:58:07.632114Z",
     "iopub.execute_input": "2025-06-17T13:58:07.632549Z",
     "iopub.status.idle": "2025-06-17T13:58:11.867395Z",
     "shell.execute_reply.started": "2025-06-17T13:58:07.632528Z",
     "shell.execute_reply": "2025-06-17T13:58:11.866755Z"
    }
   },
   "outputs": [],
   "execution_count": 2
  },
  {
   "id": "274e882b",
   "cell_type": "code",
   "source": [
    "SEED = 42\n",
    "random.seed(SEED)\n",
    "np.random.seed(SEED)\n",
    "torch.cuda.manual_seed(SEED)\n",
    "torch.manual_seed(SEED)\n",
    "\n",
    "# Shape groups\n",
    "flat_learners_indices = [1, 2, 3, 14]\n",
    "mono_conv_learners_indices = [0, 4, 5, 20, 21, 22, 6, 7, 8, 10, 18]\n",
    "peaking_learner_indices = [3, 9, 11, 12, 13, 17]\n",
    "dipping_learner_indices = [3, 19, 13, 12, 17]\n",
    "\n",
    "n_datasets = len(OPENML_ID)\n",
    "n_learners = len(LEARNER_ZOO) - 1  # Exclude DummyClassifier\n",
    "\n",
    "all_pairs = []\n",
    "for dataset_idx in range(n_datasets):\n",
    "    for learner_idx in range(n_learners):\n",
    "        all_pairs.append((dataset_idx, learner_idx))\n",
    "\n",
    "all_pairs = np.array(all_pairs)\n",
    "print(f\"Total combinations: {len(all_pairs)}\")\n",
    "\n",
    "SEED = 42\n",
    "random.seed(SEED)\n",
    "np.random.seed(SEED)\n",
    "torch.cuda.manual_seed(SEED)\n",
    "torch.manual_seed(SEED)\n",
    "\n",
    "train_pair_indices, test_pair_indices = train_test_split(\n",
    "    np.arange(len(all_pairs)),\n",
    "    test_size=0.2,\n",
    "    random_state=SEED,\n",
    "    stratify=all_pairs[:, 1]\n",
    ")\n",
    "\n",
    "train_pairs = all_pairs[train_pair_indices]\n",
    "test_pairs = all_pairs[test_pair_indices]\n",
    "\n",
    "print(f\"Train pairs: {len(train_pairs)}\")\n",
    "print(f\"Test pairs: {len(test_pairs)}\")\n",
    "\n",
    "def extract_curves_with_metadata(pairs, lc_data):\n",
    "    curves = []\n",
    "    curve_lengths = []\n",
    "    dataset_indices = []\n",
    "    learner_indices = []\n",
    "\n",
    "    for dataset_idx, learner_idx in pairs:\n",
    "        curve = np.nanmean(lc_data[dataset_idx, learner_idx, :, :, :], axis=(0, 1))\n",
    "        curve_length = np.count_nonzero(~np.isnan(curve))\n",
    "\n",
    "        if curve_length > 0:\n",
    "            curves.append(curve)\n",
    "            curve_lengths.append(curve_length)\n",
    "            dataset_indices.append(dataset_idx)\n",
    "            learner_indices.append(learner_idx)\n",
    "\n",
    "    return curves, curve_lengths, dataset_indices, learner_indices\n",
    "\n",
    "train_curves, train_curve_lengths, train_dataset_indices, train_learner_indices = extract_curves_with_metadata(train_pairs, lc_data)\n",
    "test_curves, test_curve_lengths, test_dataset_indices, test_learner_indices = extract_curves_with_metadata(test_pairs, lc_data)\n",
    "\n",
    "print(f\"Train curves: {len(train_curves)}\")\n",
    "print(f\"Test curves: {len(test_curves)}\")\n",
    "\n",
    "def filter_by_characteristic(curves, curve_lengths, dataset_indices, learner_indices, characteristic_learner_indices):\n",
    "    \"\"\"Filter curves based on learner characteristic\"\"\"\n",
    "    filtered_curves = []\n",
    "    filtered_lengths = []\n",
    "    filtered_dataset_indices = []\n",
    "    filtered_learner_indices = []\n",
    "\n",
    "    for i, learner_idx in enumerate(learner_indices):\n",
    "        if learner_idx in characteristic_learner_indices:\n",
    "            filtered_curves.append(curves[i])\n",
    "            filtered_lengths.append(curve_lengths[i])\n",
    "            filtered_dataset_indices.append(dataset_indices[i])\n",
    "            filtered_learner_indices.append(learner_idx)\n",
    "\n",
    "    return filtered_curves, filtered_lengths, filtered_dataset_indices, filtered_learner_indices\n",
    "\n",
    "# Get training curves for mono_conv learners\n",
    "train_mono_conv_curves, train_mono_conv_lengths, train_mono_conv_datasets, train_mono_conv_learners = filter_by_characteristic(\n",
    "    train_curves, train_curve_lengths, train_dataset_indices, train_learner_indices, mono_conv_learners_indices\n",
    ")\n",
    "\n",
    "print(f\"Train mono_conv curves: {len(train_mono_conv_curves)}\")\n",
    "\n",
    "# Get test curves for flat learners\n",
    "test_flat_curves, test_flat_lengths, test_flat_datasets, test_flat_learners = filter_by_characteristic(\n",
    "    test_curves, test_curve_lengths, test_dataset_indices, test_learner_indices, flat_learners_indices\n",
    ")\n",
    "\n",
    "print(f\"Test flat curves: {len(test_flat_curves)}\")\n",
    "\n",
    "def create_binary_split(curves, curve_lengths, dataset_indices, learner_indices, characteristic_indices):\n",
    "    \"\"\"Create binary split: characteristic vs non-characteristic\"\"\"\n",
    "    char_curves, char_lengths, char_datasets, char_learners = filter_by_characteristic(\n",
    "        curves, curve_lengths, dataset_indices, learner_indices, characteristic_indices\n",
    "    )\n",
    "\n",
    "    non_char_curves, non_char_lengths, non_char_datasets, non_char_learners = filter_by_characteristic(\n",
    "        curves, curve_lengths, dataset_indices, learner_indices,\n",
    "        [i for i in range(23) if i not in characteristic_indices]  # All except characteristic\n",
    "    )\n",
    "\n",
    "    return (char_curves, char_lengths, char_datasets, char_learners), \\\n",
    "           (non_char_curves, non_char_lengths, non_char_datasets, non_char_learners)\n",
    "\n",
    "# Create mono_conv vs non-mono_conv split for training data\n",
    "(train_mono_conv, train_non_mono_conv) = create_binary_split(\n",
    "    train_curves, train_curve_lengths, train_dataset_indices, train_learner_indices,\n",
    "    mono_conv_learners_indices\n",
    ")\n",
    "\n",
    "print(f\"Train mono_conv: {len(train_mono_conv[0])} curves\")\n",
    "print(f\"Train non-mono_conv: {len(train_non_mono_conv[0])} curves\")\n",
    "\n",
    "# Find all SVM_poly curves (index 1) in training set\n",
    "svm_poly_train_curves = []\n",
    "for i, learner_idx in enumerate(train_learner_indices):\n",
    "    if learner_idx == 1:  # SVM_poly\n",
    "        svm_poly_train_curves.append(train_curves[i])\n",
    "\n",
    "print(f\"SVM_poly curves in training set: {len(svm_poly_train_curves)}\")"
   ],
   "metadata": {
    "trusted": true,
    "execution": {
     "iopub.status.busy": "2025-06-17T13:58:11.868172Z",
     "iopub.execute_input": "2025-06-17T13:58:11.868452Z",
     "iopub.status.idle": "2025-06-17T13:58:12.239997Z",
     "shell.execute_reply.started": "2025-06-17T13:58:11.868428Z",
     "shell.execute_reply": "2025-06-17T13:58:12.239307Z"
    }
   },
   "outputs": [
    {
     "name": "stdout",
     "output_type": "stream",
     "text": [
      "Total combinations: 6095\n",
      "Train pairs: 4876\n",
      "Test pairs: 1219\n",
      "Train curves: 4727\n",
      "Test curves: 1185\n",
      "Train mono_conv curves: 2322\n",
      "Test flat curves: 212\n",
      "Train mono_conv: 2322 curves\n",
      "Train non-mono_conv: 2405 curves\n",
      "SVM_poly curves in training set: 211\n"
     ]
    }
   ],
   "execution_count": 3
  },
  {
   "id": "b01ddfbf-b894-427f-8a4f-9943d25abb3f",
   "cell_type": "code",
   "source": [
    "def augment(y, n_anchors):\n",
    "    y_min = np.nanmin(y)\n",
    "    y_max = np.nanmax(y)\n",
    "    if y_min >= y_max:\n",
    "        return y\n",
    "    anchors = np.random.uniform(0,1,(n_anchors,))\n",
    "    anchors.sort()\n",
    "    min_diff = 10**10\n",
    "    y_final = None\n",
    "    for i in range(n_anchors):\n",
    "        a_i = anchors[i]\n",
    "        for j in range(i+1, n_anchors):\n",
    "            a_j = anchors[j]\n",
    "            y_transformed = (a_j - a_i) / (y_max - y_min) * (y - y_min) + a_i\n",
    "            error = np.nansum((y - y_transformed)**2)\n",
    "            if error < min_diff:\n",
    "                min_diff = error\n",
    "                y_final = y_transformed\n",
    "                #print(f\"{y_transformed} ([{a_i},{a_j}], error: {error})\")\n",
    "    return y_final\n",
    "    \n",
    "y = np.array([0.2,0.3, 0.35, 0.3, 0.6, 0.7, 0.72])\n",
    "for i in range(100):\n",
    "    yy = augment(y, n_anchors=10)\n",
    "    if i==0:\n",
    "        plt.plot(yy,color=\"k\",alpha=0.2, label=\"augmented curves\")\n",
    "    else:\n",
    "        plt.plot(yy,color=\"k\",alpha=0.2)\n",
    "ax = plt.gca()\n",
    "\n",
    "# Hide X and Y axes label marks\n",
    "ax.xaxis.set_tick_params(labelbottom=False)\n",
    "ax.yaxis.set_tick_params(labelleft=False)\n",
    "\n",
    "# Hide X and Y axes tick marks\n",
    "ax.set_xticks([])\n",
    "ax.set_yticks([])\n",
    "plt.xlabel(\"Training Dataset Size\")\n",
    "plt.ylabel(\"Performance (e.g., accuracy)\")\n",
    "plt.ylim([0,1])\n",
    "plt.plot(y,color=\"blue\", linewidth=2, label=\"original curve\")\n",
    "plt.legend()"
   ],
   "metadata": {
    "trusted": true,
    "execution": {
     "iopub.status.busy": "2025-06-17T13:58:12.241559Z",
     "iopub.execute_input": "2025-06-17T13:58:12.241753Z",
     "iopub.status.idle": "2025-06-17T13:58:12.628601Z",
     "shell.execute_reply.started": "2025-06-17T13:58:12.241738Z",
     "shell.execute_reply": "2025-06-17T13:58:12.627901Z"
    }
   },
   "outputs": [
    {
     "data": {
      "text/plain": "<matplotlib.legend.Legend at 0x2ac07ec6e70>"
     },
     "execution_count": 4,
     "metadata": {},
     "output_type": "execute_result"
    },
    {
     "data": {
      "text/plain": "<Figure size 640x480 with 1 Axes>",
      "image/png": "[encoded data removed]"
     },
     "metadata": {},
     "output_type": "display_data"
    }
   ],
   "execution_count": 4
  },
  {
   "id": "77a398e6-4253-471a-b528-713e5452af48",
   "cell_type": "markdown",
   "source": [
    "### Extrapolation using LC-PFN"
   ],
   "metadata": {}
  },
  {
   "id": "701007c0",
   "cell_type": "code",
   "source": [
    "SEED = 42\n",
    "random.seed(SEED)\n",
    "np.random.seed(SEED)\n",
    "torch.cuda.manual_seed(SEED)\n",
    "torch.manual_seed(SEED)\n",
    "\n",
    "# create a single eval pos, seq len samplers\n",
    "class LCDB_samplers():\n",
    "    # pick a training task, note that if multiple training tasks have the same length curves, the eventual batch will contain a mixture\n",
    "\n",
    "    def __init__(self, rng=np.random, verbose=False):\n",
    "        self.rng = rng\n",
    "        self.curve_length = self.rng.choice(train_curve_lengths)\n",
    "        self.verbose = verbose\n",
    "\n",
    "    def seq_len(self):\n",
    "        self.curve_length = self.rng.choice(train_curve_lengths)\n",
    "        if self.verbose:\n",
    "            print(f\"curve length: {self.curve_length}\")\n",
    "        return self.curve_length\n",
    "\n",
    "    def single_eval_pos(self):\n",
    "        sep = self.rng.randint(self.curve_length)\n",
    "        if self.verbose:\n",
    "            print(f\"single eval pos: {sep}\")\n",
    "        return sep\n",
    "\n",
    "lcdb_sampler = LCDB_samplers(verbose=False)\n",
    "\n",
    "for _ in range(3):\n",
    "    print((lcdb_sampler.seq_len(), lcdb_sampler.single_eval_pos()))"
   ],
   "metadata": {
    "trusted": true,
    "execution": {
     "iopub.status.busy": "2025-06-17T13:58:12.629414Z",
     "iopub.execute_input": "2025-06-17T13:58:12.629666Z",
     "iopub.status.idle": "2025-06-17T13:58:12.638304Z",
     "shell.execute_reply.started": "2025-06-17T13:58:12.629645Z",
     "shell.execute_reply": "2025-06-17T13:58:12.637746Z"
    }
   },
   "outputs": [
    {
     "name": "stdout",
     "output_type": "stream",
     "text": [
      "(np.int64(51), 20)\n",
      "(np.int64(54), 22)\n",
      "(np.int64(95), 74)\n"
     ]
    }
   ],
   "execution_count": 5
  },
  {
   "id": "ca6d822a-13a5-49d5-b874-a5ddf13211f2",
   "cell_type": "code",
   "source": [
    "AUGMENT = True"
   ],
   "metadata": {
    "trusted": true,
    "execution": {
     "iopub.status.busy": "2025-06-17T13:58:12.638929Z",
     "iopub.execute_input": "2025-06-17T13:58:12.639134Z",
     "iopub.status.idle": "2025-06-17T13:58:12.654811Z",
     "shell.execute_reply.started": "2025-06-17T13:58:12.639119Z",
     "shell.execute_reply": "2025-06-17T13:58:12.654075Z"
    }
   },
   "outputs": [],
   "execution_count": 6
  },
  {
   "id": "f3f3bb71",
   "cell_type": "code",
   "source": [
    "ddevice = torch.device('cuda' if torch.cuda.is_available() else 'cpu')\n",
    "print(f\"Using device: {ddevice}\")\n",
    "\n",
    "# generating batches from the LCDB dataset\n",
    "def get_batch_lcdb_real( batch_size, seq_len, num_features, device=ddevice, noisy_target=True, **_ ):\n",
    "    assert num_features == 1\n",
    "    assert noisy_target\n",
    "\n",
    "    ###### sample the curve data\n",
    "    x = np.empty((batch_size, seq_len), dtype=float)\n",
    "    y_target = np.empty((batch_size, seq_len), dtype=float)\n",
    "    y_noisy = np.empty((batch_size, seq_len), dtype=float)\n",
    "\n",
    "    # determine a list of cids having the desired curve length (TODO: precompute)\n",
    "    candidates = [cid for (cid, clen) in enumerate(train_curve_lengths) if clen == seq_len]\n",
    "    cids = np.random.choice(candidates, batch_size, replace=True)\n",
    "    # replace = TRUE, cause sometimes the number of existing curves is smaller than batch size\n",
    "\n",
    "    for i, cid in enumerate(cids):\n",
    "        curve = train_curves[cid]\n",
    "        if AUGMENT:\n",
    "            curve = augment(curve,n_anchors=10)\n",
    "        token_idx = 0\n",
    "        for j, y in enumerate(curve):\n",
    "            if np.isnan(y):\n",
    "                continue\n",
    "            else:\n",
    "                x[i, token_idx] = j+1\n",
    "                y_target[i, token_idx] = y\n",
    "                y_noisy[i, token_idx] = y\n",
    "                token_idx += 1\n",
    "        # assert(token_idx == seq_len)\n",
    "\n",
    "    # turn numpy arrays into correctly shaped torch tensors & move them to device\n",
    "    x = (torch.arange(1, seq_len + 1).repeat((num_features, batch_size, 1)).transpose(2, 0).to(device)).float()\n",
    "    y_target = torch.from_numpy(y_target).transpose(1, 0).to(device).float()\n",
    "    y_noisy = torch.from_numpy(y_noisy).transpose(1, 0).to(device).float()\n",
    "\n",
    "    return x, y_noisy, y_target\n",
    "\n",
    "def train_lcdbpfn(get_batch_func, seq_len, emsize, nlayers, num_borders, lr, batch_size, epochs, checkpoint_path):\n",
    "\n",
    "    # training hyperparameters\n",
    "    hps = {}\n",
    "\n",
    "    # PFN training hyperparameters\n",
    "    dataloader = lcpfn.priors.utils.get_batch_to_dataloader(get_batch_func)  # type: ignore\n",
    "\n",
    "    num_features = 1\n",
    "\n",
    "    ys = []\n",
    "    for curve in train_curves:\n",
    "        ys.extend(curve)\n",
    "\n",
    "    ys = torch.FloatTensor(ys)\n",
    "    ys = torch.normal(ys,1e-5)\n",
    "\n",
    "    bucket_limits = bar_distribution.get_bucket_limits(num_borders, ys=ys)\n",
    "    #print(bucket_limits)\n",
    "\n",
    "    # Discretization of the predictive distributions\n",
    "    criterions = {\n",
    "        num_features: {\n",
    "            num_borders: bar_distribution.FullSupportBarDistribution(bucket_limits)\n",
    "        }\n",
    "    }\n",
    "\n",
    "\n",
    "    config = dict(\n",
    "        nlayers=nlayers,\n",
    "        priordataloader_class=dataloader,\n",
    "        criterion=criterions[num_features][num_borders],\n",
    "        encoder_generator=lambda in_dim, out_dim: torch.nn.Sequential(\n",
    "            encoders.Normalize(0.0, 101.0),\n",
    "            encoders.Normalize(0.5, math.sqrt(1 / 12)),\n",
    "            encoders.Linear(in_dim, out_dim),\n",
    "        ),\n",
    "        emsize=emsize,\n",
    "        nhead=(emsize // 128),\n",
    "        warmup_epochs=(epochs // 4),\n",
    "        y_encoder_generator=encoders.get_normalized_uniform_encoder(encoders.Linear),\n",
    "        batch_size=batch_size,\n",
    "        scheduler=lcpfn.utils.get_cosine_schedule_with_warmup,\n",
    "        extra_prior_kwargs_dict={\n",
    "            # \"num_workers\": 10,\n",
    "            \"num_features\": num_features,\n",
    "            \"hyperparameters\": {\n",
    "                **hps,\n",
    "            },\n",
    "        },\n",
    "        epochs=epochs,\n",
    "        lr=lr,\n",
    "        bptt=seq_len,\n",
    "        seq_len_gen=lcdb_sampler.seq_len,\n",
    "        single_eval_pos_gen=lambda: LCDB_samplers().single_eval_pos(),\n",
    "        aggregate_k_gradients=1,\n",
    "        nhid=(emsize * 2),\n",
    "        steps_per_epoch=100,\n",
    "        train_mixed_precision=False,\n",
    "        checkpoint_path = checkpoint_path\n",
    "    )\n",
    "\n",
    "    return lctrain.train(**config)"
   ],
   "metadata": {
    "trusted": true,
    "execution": {
     "iopub.status.busy": "2025-06-17T14:11:42.555133Z",
     "iopub.execute_input": "2025-06-17T14:11:42.555430Z",
     "iopub.status.idle": "2025-06-17T14:11:42.568685Z",
     "shell.execute_reply.started": "2025-06-17T14:11:42.555407Z",
     "shell.execute_reply": "2025-06-17T14:11:42.568066Z"
    }
   },
   "outputs": [
    {
     "name": "stdout",
     "output_type": "stream",
     "text": [
      "Using device: cpu\n"
     ]
    }
   ],
   "execution_count": 7
  },
  {
   "id": "c011bde4",
   "cell_type": "code",
   "source": [
    "SEED = 42\n",
    "random.seed(SEED)\n",
    "np.random.seed(SEED)\n",
    "torch.cuda.manual_seed(SEED)\n",
    "torch.manual_seed(SEED)\n",
    "\n",
    "# local training\n",
    "SEQ_LEN = 140\n",
    "EMSIZE = 512\n",
    "NLAYERS = 12\n",
    "NUM_BORDERS = 1000\n",
    "LR = 0.0001\n",
    "BATCH_SIZE = 100\n",
    "EPOCH = 1000\n",
    "\n",
    "# batch size 100 x step size 100 x 1000 epochs = 10 million augmented curves will be generated during the batch creation in training\n",
    "\n",
    "result = train_lcdbpfn(\n",
    "    get_batch_func = get_batch_lcdb_real,\n",
    "    seq_len = SEQ_LEN,\n",
    "    emsize = EMSIZE,\n",
    "    nlayers = NLAYERS,\n",
    "    num_borders = NUM_BORDERS,\n",
    "    lr = LR,\n",
    "    batch_size = BATCH_SIZE,\n",
    "    epochs = EPOCH,\n",
    "    checkpoint_path=experiments_path\n",
    ")"
   ],
   "metadata": {
    "trusted": true,
    "execution": {
     "iopub.status.busy": "2025-06-17T14:11:46.497314Z",
     "iopub.execute_input": "2025-06-17T14:11:46.497581Z",
     "iopub.status.idle": "2025-06-17T14:39:42.734160Z",
     "shell.execute_reply.started": "2025-06-17T14:11:46.497560Z",
     "shell.execute_reply": "2025-06-17T14:39:42.733478Z"
    }
   },
   "outputs": [
    {
     "name": "stdout",
     "output_type": "stream",
     "text": [
      "Using 294000 y evals to estimate 1000 buckets. Cut off the last 0 ys.\n",
      "Using cpu:0 device\n",
      "init dist\n",
      "Not using distributed\n",
      "DataLoader.__dict__ {'num_steps': 100, 'get_batch_kwargs': {'batch_size': 100, 'eval_pos_seq_len_sampler': <function train.<locals>.eval_pos_seq_len_sampler at 0x000002AC2C75C360>, 'seq_len_maximum': 140, 'device': 'cpu:0', 'num_features': 1, 'hyperparameters': {}}, 'num_features': 1}\n",
      "Style definition: None\n",
      "Using a Transformer with 26.79 M parameters\n"
     ]
    }
   ],
   "execution_count": 8
  },
  {
   "id": "dadc0977-3126-45bc-a5d8-61cd5d305abe",
   "cell_type": "code",
   "source": [
    "model = result[2]\n",
    "os.makedirs(f'../trained_models/exp2_{SEQ_LEN}_{EMSIZE}_{NLAYERS}_{NUM_BORDERS}_{LR}_{BATCH_SIZE}_{EPOCH}', exist_ok=True)\n",
    "torch.save(model, f'../trained_models/exp2_{SEQ_LEN}_{EMSIZE}_{NLAYERS}_{NUM_BORDERS}_{LR}_{BATCH_SIZE}_{EPOCH}/lcpfn_model_exp2_{SEQ_LEN}_{EMSIZE}_{NLAYERS}_{NUM_BORDERS}_{LR}_{BATCH_SIZE}_{EPOCH}.pth')\n",
    "print(\"Model saved successfully!\")\n",
    "print(model)"
   ],
   "metadata": {
    "trusted": true,
    "execution": {
     "iopub.status.busy": "2025-06-17T14:41:13.494980Z",
     "iopub.execute_input": "2025-06-17T14:41:13.495529Z",
     "iopub.status.idle": "2025-06-17T14:41:13.510987Z",
     "shell.execute_reply.started": "2025-06-17T14:41:13.495504Z",
     "shell.execute_reply": "2025-06-17T14:41:13.510280Z"
    }
   },
   "outputs": [
    {
     "name": "stdout",
     "output_type": "stream",
     "text": [
      "Model saved successfully!\n",
      "TransformerModel(\n",
      "  (transformer_encoder): TransformerEncoder(\n",
      "    (layers): ModuleList(\n",
      "      (0-11): 12 x TransformerEncoderLayer(\n",
      "        (self_attn): MultiheadAttention(\n",
      "          (out_proj): NonDynamicallyQuantizableLinear(in_features=512, out_features=512, bias=True)\n",
      "        )\n",
      "        (linear1): Linear(in_features=512, out_features=1024, bias=True)\n",
      "        (dropout): Dropout(p=0.2, inplace=False)\n",
      "        (linear2): Linear(in_features=1024, out_features=512, bias=True)\n",
      "        (norm1): LayerNorm((512,), eps=1e-05, elementwise_affine=True)\n",
      "        (norm2): LayerNorm((512,), eps=1e-05, elementwise_affine=True)\n",
      "        (dropout1): Dropout(p=0.2, inplace=False)\n",
      "        (dropout2): Dropout(p=0.2, inplace=False)\n",
      "      )\n",
      "    )\n",
      "  )\n",
      "  (encoder): Sequential(\n",
      "    (0): Normalize()\n",
      "    (1): Normalize()\n",
      "    (2): Linear(in_features=1, out_features=512, bias=True)\n",
      "  )\n",
      "  (y_encoder): Sequential(\n",
      "    (0): Normalize()\n",
      "    (1): Linear(in_features=1, out_features=512, bias=True)\n",
      "  )\n",
      "  (pos_encoder): NoPositionalEncoding()\n",
      "  (decoder): Sequential(\n",
      "    (0): Linear(in_features=512, out_features=1024, bias=True)\n",
      "    (1): GELU()\n",
      "    (2): Linear(in_features=1024, out_features=1000, bias=True)\n",
      "  )\n",
      "  (criterion): FullSupportBarDistribution()\n",
      ")\n"
     ]
    }
   ],
   "execution_count": 9
  },
  {
   "id": "18d1ceef-30a8-47c7-9754-ed7bf194cd37",
   "cell_type": "markdown",
   "source": [
    "### Extrapolate the learning curve with a cutoff"
   ],
   "metadata": {}
  },
  {
   "id": "489374ee-e0a7-42f2-a739-3a99f9f2dc39",
   "cell_type": "code",
   "source": [
    "model = torch.load(f'../trained_models/exp2_{SEQ_LEN}_{EMSIZE}_{NLAYERS}_{NUM_BORDERS}_{LR}_{BATCH_SIZE}_{EPOCH}/lcpfn_model_exp2_{SEQ_LEN}_{EMSIZE}_{NLAYERS}_{NUM_BORDERS}_{LR}_{BATCH_SIZE}_{EPOCH}.pth', weights_only=False)\n",
    "model.eval()"
   ],
   "metadata": {
    "trusted": true,
    "execution": {
     "iopub.status.busy": "2025-06-17T14:41:33.776165Z",
     "iopub.execute_input": "2025-06-17T14:41:33.776461Z",
     "iopub.status.idle": "2025-06-17T14:41:33.788441Z",
     "shell.execute_reply.started": "2025-06-17T14:41:33.776439Z",
     "shell.execute_reply": "2025-06-17T14:41:33.787671Z"
    }
   },
   "outputs": [
    {
     "data": {
      "text/plain": "TransformerModel(\n  (transformer_encoder): TransformerEncoder(\n    (layers): ModuleList(\n      (0-11): 12 x TransformerEncoderLayer(\n        (self_attn): MultiheadAttention(\n          (out_proj): NonDynamicallyQuantizableLinear(in_features=512, out_features=512, bias=True)\n        )\n        (linear1): Linear(in_features=512, out_features=1024, bias=True)\n        (dropout): Dropout(p=0.2, inplace=False)\n        (linear2): Linear(in_features=1024, out_features=512, bias=True)\n        (norm1): LayerNorm((512,), eps=1e-05, elementwise_affine=True)\n        (norm2): LayerNorm((512,), eps=1e-05, elementwise_affine=True)\n        (dropout1): Dropout(p=0.2, inplace=False)\n        (dropout2): Dropout(p=0.2, inplace=False)\n      )\n    )\n  )\n  (encoder): Sequential(\n    (0): Normalize()\n    (1): Normalize()\n    (2): Linear(in_features=1, out_features=512, bias=True)\n  )\n  (y_encoder): Sequential(\n    (0): Normalize()\n    (1): Linear(in_features=1, out_features=512, bias=True)\n  )\n  (pos_encoder): NoPositionalEncoding()\n  (decoder): Sequential(\n    (0): Linear(in_features=512, out_features=1024, bias=True)\n    (1): GELU()\n    (2): Linear(in_features=1024, out_features=1000, bias=True)\n  )\n  (criterion): FullSupportBarDistribution()\n)"
     },
     "execution_count": 10,
     "metadata": {},
     "output_type": "execute_result"
    }
   ],
   "execution_count": 10
  },
  {
   "id": "648854c9",
   "cell_type": "code",
   "source": [
    "random_idx = random.randint(0, len(train_curves) - 1)\n",
    "curve = test_curves[34]  # Get curve from list\n",
    "curve = curve[~np.isnan(curve)]  # Remove NaN values\n",
    "\n",
    "y = torch.from_numpy(curve).float().unsqueeze(-1)\n",
    "x = torch.arange(1, y.shape[0] + 1).unsqueeze(-1).float()  \n",
    "\n",
    "# construct \n",
    "num_last_anchor = 20\n",
    "cutoff = len(curve) - num_last_anchor\n",
    "x_train = x[:cutoff]\n",
    "y_train = y[:cutoff]\n",
    "x_test = x[cutoff:]\n",
    "\n",
    "qs = [0.05, 0.5, 0.95]\n",
    "normalizer = lcpfn.utils.identity_normalizer()\n",
    "y_train_norm = normalizer[0](y_train)\n",
    "\n",
    "# forward\n",
    "single_eval_pos = x_train.shape[0]\n",
    "x = torch.cat([x_train, x_test], dim=0).unsqueeze(1)\n",
    "y = y_train.unsqueeze(1)\n",
    "\n",
    "logits = model((x, y), single_eval_pos=single_eval_pos)\n",
    "predictions = normalizer[1](\n",
    "    torch.cat([model.criterion.icdf(logits, q) for q in qs], dim=1)\n",
    ")\n",
    "\n",
    "x_test_np = x[cutoff:].detach().cpu().numpy().flatten()\n",
    "pred_mean = predictions[:, 1].detach().cpu().numpy()\n",
    "pred_lower = predictions[:, 0].detach().cpu().numpy()\n",
    "pred_upper = predictions[:, 2].detach().cpu().numpy()\n",
    "\n",
    "# plot\n",
    "plt.plot(curve, \"black\", label=\"target\")\n",
    "plt.plot(x_test_np, pred_mean, \"blue\", label=\"Extrapolation by PFN\")\n",
    "plt.fill_between(x_test_np, pred_lower, pred_upper, color=\"blue\", alpha=0.2, label=\"CI of 90%\")\n",
    "plt.vlines(cutoff, 0, 1, linewidth=0.5, color=\"k\", label=\"cutoff\")\n",
    "plt.ylim(0, 1)\n",
    "plt.legend(loc=\"lower right\")\n",
    "plt.show()\n",
    "\n",
    "print(f\"Curve index: 28\")\n",
    "print(f\"Dataset index: {train_dataset_indices[28]}\")\n",
    "print(f\"Learner index: {train_learner_indices[28]}\")\n",
    "print(f\"Learner name: {LEARNER_ZOO[train_learner_indices[28]]}\")\n",
    "print(f\"Curve length: {len(curve)}\")\n",
    "\n",
    "learner_idx = train_learner_indices[28]\n",
    "print(f\"\\nCharacteristic groups for {LEARNER_ZOO[learner_idx]}:\")\n",
    "if learner_idx in flat_learners_indices:\n",
    "    print(\"- Flat learner\")\n",
    "if learner_idx in mono_conv_learners_indices:\n",
    "    print(\"- Mono & Convex learner\")\n",
    "if learner_idx in peaking_learner_indices:\n",
    "    print(\"- Peaking learner\")\n",
    "if learner_idx in dipping_learner_indices:\n",
    "    print(\"- Dipping learner\")"
   ],
   "metadata": {
    "trusted": true,
    "execution": {
     "iopub.status.busy": "2025-06-17T14:43:47.142572Z",
     "iopub.execute_input": "2025-06-17T14:43:47.143266Z",
     "iopub.status.idle": "2025-06-17T14:43:47.281006Z",
     "shell.execute_reply.started": "2025-06-17T14:43:47.143245Z",
     "shell.execute_reply": "2025-06-17T14:43:47.280349Z"
    }
   },
   "outputs": [
    {
     "data": {
      "text/plain": "<Figure size 640x480 with 1 Axes>",
      "image/png": "[encoded data removed]"
     },
     "metadata": {},
     "output_type": "display_data"
    },
    {
     "name": "stdout",
     "output_type": "stream",
     "text": [
      "Curve index: 28\n",
      "Dataset index: 72\n",
      "Learner index: 11\n",
      "Learner name: MLP\n",
      "Curve length: 82\n",
      "\n",
      "Characteristic groups for MLP:\n",
      "- Peaking learner\n"
     ]
    }
   ],
   "execution_count": 11
  },
  {
   "id": "4c738615-cd2e-4ed5-9a7e-a1a89ffbac5a",
   "cell_type": "code",
   "source": [],
   "metadata": {
    "collapsed": false,
    "jupyter": {
     "outputs_hidden": false
    },
    "trusted": true
   },
   "outputs": [],
   "execution_count": 11
  }
 ]
}
