{
 "cells": [
  {
   "cell_type": "code",
   "execution_count": 1,
   "id": "494c5b6a-0cfa-4f79-9bb2-1f33c24a47e1",
   "metadata": {
    "execution": {
     "iopub.execute_input": "2025-06-05T10:13:05.206352Z",
     "iopub.status.busy": "2025-06-05T10:13:05.205990Z",
     "iopub.status.idle": "2025-06-05T10:13:06.252856Z",
     "shell.execute_reply": "2025-06-05T10:13:06.252323Z",
     "shell.execute_reply.started": "2025-06-05T10:13:05.206333Z"
    },
    "trusted": true
   },
   "outputs": [
    {
     "name": "stdout",
     "output_type": "stream",
     "text": [
      "Project path: C:\\Users\\adeli\\OneDrive\\Desktop\\facultate\\4th year\\Research Project\\Extrapolating-Learning-Curves-When-Do-Neural-Networks-Outperform-Parametric-Models-\\experiment1\n"
     ]
    }
   ],
   "source": [
    "import h5py\n",
    "import numpy as np\n",
    "import torch\n",
    "import random\n",
    "import pandas as pd\n",
    "import matplotlib.pyplot as plt\n",
    "import math\n",
    "from sklearn.model_selection import train_test_split\n",
    "import warnings\n",
    "warnings.filterwarnings('ignore')\n",
    "\n",
    "import lcpfn \n",
    "from lcpfn import bar_distribution, encoders\n",
    "from lcpfn import train as lctrain\n",
    "\n",
    "# create folder\n",
    "import sys\n",
    "import os\n",
    "main_path = os.path.abspath(os.path.join(os.getcwd(), ''))\n",
    "if main_path not in sys.path:\n",
    "    sys.path.insert(0, main_path)\n",
    "\n",
    "print(f\"Project path: {main_path}\")\n",
    "\n",
    "TRAINING_NAME = 'training-experiment1'\n",
    "experiments_path = f\"{main_path}/{TRAINING_NAME}\"\n",
    "os.makedirs(experiments_path, exist_ok=True)"
   ]
  },
  {
   "cell_type": "markdown",
   "id": "a31317b2",
   "metadata": {},
   "source": [
    "### Load LCDB 1.1 data"
   ]
  },
  {
   "cell_type": "code",
   "execution_count": 2,
   "id": "fab69730",
   "metadata": {
    "execution": {
     "iopub.execute_input": "2025-06-05T10:13:06.253957Z",
     "iopub.status.busy": "2025-06-05T10:13:06.253545Z",
     "iopub.status.idle": "2025-06-05T10:13:09.996315Z",
     "shell.execute_reply": "2025-06-05T10:13:09.995503Z",
     "shell.execute_reply.started": "2025-06-05T10:13:06.253936Z"
    },
    "trusted": true
   },
   "outputs": [],
   "source": [
    "### hyperparameter\n",
    "OPENML_ID = {0: '3', 1: '6', 2: '11', 3: '12', 4: '13', 5: '14', 6: '15', 7: '16', 8: '18', 9: '21', 10: '22', 11: '23', 12: '24', 13: '26', 14: '28', 15: '29', 16: '30', 17: '31', 18: '32', 19: '36', 20: '37', 21: '38', 22: '44', 23: '46', 24: '50', 25: '54', 26: '55', 27: '57', 28: '60', 29: '61', 30: '151', 31: '179', 32: '180', 33: '181', 34: '182', 35: '184', 36: '185', 37: '188', 38: '201', 39: '273', 40: '293', 41: '299', 42: '300', 43: '307', 44: '336', 45: '346', 46: '351', 47: '354', 48: '357', 49: '380', 50: '389', 51: '390', 52: '391', 53: '392', 54: '393', 55: '395', 56: '396', 57: '398', 58: '399', 59: '401', 60: '446', 61: '458', 62: '469', 63: '554', 64: '679', 65: '715', 66: '718', 67: '720', 68: '722', 69: '723', 70: '727', 71: '728', 72: '734', 73: '735', 74: '737', 75: '740', 76: '741', 77: '743', 78: '751', 79: '752', 80: '761', 81: '772', 82: '797', 83: '799', 84: '803', 85: '806', 86: '807', 87: '813', 88: '816', 89: '819', 90: '821', 91: '822', 92: '823', 93: '833', 94: '837', 95: '843', 96: '845', 97: '846', 98: '847', 99: '849', 100: '866', 101: '871', 102: '881', 103: '897', 104: '901', 105: '903', 106: '904', 107: '910', 108: '912', 109: '913', 110: '914', 111: '917', 112: '923', 113: '930', 114: '934', 115: '953', 116: '958', 117: '959', 118: '962', 119: '966', 120: '971', 121: '976', 122: '977', 123: '978', 124: '979', 125: '980', 126: '991', 127: '993', 128: '995', 129: '1000', 130: '1002', 131: '1018', 132: '1019', 133: '1020', 134: '1021', 135: '1036', 136: '1040', 137: '1041', 138: '1042', 139: '1049', 140: '1050', 141: '1053', 142: '1056', 143: '1063', 144: '1067', 145: '1068', 146: '1069', 147: '1083', 148: '1084', 149: '1085', 150: '1086', 151: '1087', 152: '1088', 153: '1116', 154: '1119', 155: '1120', 156: '1128', 157: '1130', 158: '1134', 159: '1138', 160: '1139', 161: '1142', 162: '1146', 163: '1161', 164: '1166', 165: '1216', 166: '1233', 167: '1235', 168: '1236', 169: '1441', 170: '1448', 171: '1450', 172: '1457', 173: '1461', 174: '1462', 175: '1464', 176: '1465', 177: '1468', 178: '1475', 179: '1477', 180: '1478', 181: '1479', 182: '1480', 183: '1483', 184: '1485', 185: '1486', 186: '1487', 187: '1488', 188: '1489', 189: '1494', 190: '1497', 191: '1499', 192: '1501', 193: '1503', 194: '1509', 195: '1510', 196: '1515', 197: '1566', 198: '1567', 199: '1575', 200: '1590', 201: '1592', 202: '1597', 203: '4134', 204: '4135', 205: '4137', 206: '4534', 207: '4538', 208: '4541', 209: '6332', 210: '23381', 211: '23512', 212: '23517', 213: '40498', 214: '40499', 215: '40664', 216: '40668', 217: '40670', 218: '40672', 219: '40677', 220: '40685', 221: '40687', 222: '40701', 223: '40713', 224: '40900', 225: '40910', 226: '40923', 227: '40927', 228: '40966', 229: '40971', 230: '40975', 231: '40978', 232: '40979', 233: '40981', 234: '40982', 235: '40983', 236: '40984', 237: '40994', 238: '40996', 239: '41027', 240: '41142', 241: '41143', 242: '41144', 243: '41145', 244: '41146', 245: '41150', 246: '41156', 247: '41157', 248: '41158', 249: '41159', 250: '41161', 251: '41163', 252: '41164', 253: '41165', 254: '41166', 255: '41167', 256: '41168', 257: '41169', 258: '41228', 259: '41972', 260: '42734', 261: '42742', 262: '42769', 263: '42809', 264: '42810'}\n",
    "LEARNER_ZOO = {0: 'SVC_linear', 1: 'SVC_poly', 2: 'SVC_rbf', 3: 'SVC_sigmoid', 4: 'Decision Trees', 5: 'ExtraTrees', 6: 'LogisticRegression', 7: 'PassiveAggressive', 8: 'Perceptron', 9: 'RidgeClassifier', 10: 'SGDClassifier', 11: 'MLP', 12: 'LDA', 13: 'QDA', 14: 'BernoulliNB', 15: 'MultinomialNB', 16: 'ComplementNB', 17: 'GaussianNB', 18: 'KNN', 19: 'NearestCentroid', 20: 'ens.ExtraTrees', 21: 'ens.RandomForest', 22: 'ens.GradientBoosting', 23: 'DummyClassifier'}\n",
    "ANCHOR_SIZE = np.ceil(16 * 2 ** ((np.arange(137)) / 8)).astype(int)\n",
    "\n",
    "### load data: validation accuracy\n",
    "lc_data = h5py.File('../LCDB11_ACC_265_noFS_raw_compress.hdf5', 'r')['accuracy'][...][:,:,:,:,:,1]\n",
    "\n",
    "mean_valid_lc_nofs =np.nanmean(lc_data, axis=(2, 3))"
   ]
  },
  {
   "cell_type": "code",
   "execution_count": 3,
   "id": "274e882b",
   "metadata": {
    "execution": {
     "iopub.execute_input": "2025-06-05T10:13:09.998375Z",
     "iopub.status.busy": "2025-06-05T10:13:09.998086Z",
     "iopub.status.idle": "2025-06-05T10:13:10.797868Z",
     "shell.execute_reply": "2025-06-05T10:13:10.797200Z",
     "shell.execute_reply.started": "2025-06-05T10:13:09.998353Z"
    },
    "trusted": true
   },
   "outputs": [
    {
     "name": "stdout",
     "output_type": "stream",
     "text": [
      "[ 8 16  0 18 11]\n",
      "Train data shape: (100700, 1, 137)\n",
      "Test data KDKL shape: (100700, 1, 137)\n",
      "Test data UD shape: (25175, 1, 137)\n",
      "Test data UL shape: (26500, 1, 137)\n",
      "Test data UDUL shape: (6625, 1, 137)\n",
      "KDKL Testing set size: 98611 curves\n",
      "UL Testing set size: 24761 curves\n",
      "UD Testing set size: 24725 curves\n",
      "UDUL Testing set size: 6175 curves\n"
     ]
    }
   ],
   "source": [
    "SEED = 42\n",
    "random.seed(SEED)\n",
    "np.random.seed(SEED)\n",
    "torch.cuda.manual_seed(SEED)\n",
    "torch.manual_seed(SEED)\n",
    "\n",
    "### dataset split\n",
    "train_data_indices, test_data_indices = train_test_split(np.arange(len(OPENML_ID)), test_size=0.2, random_state=42)\n",
    "\n",
    "### learner split\n",
    "train_learner_indices, test_learner_indices = train_test_split(np.arange(len(LEARNER_ZOO)), test_size=0.2, random_state=42)\n",
    "\n",
    "print(test_learner_indices)\n",
    "\n",
    "### UD, UL, UDUL\n",
    "train_data = lc_data[train_data_indices][:, train_learner_indices, :].transpose(0, 2, 3, 1, 4).reshape(-1, 1, 137)\n",
    "test_data_KDKL = lc_data[train_data_indices][:, train_learner_indices, :].transpose(0, 2, 3, 1, 4).reshape(-1, 1, 137)\n",
    "test_data_UD = lc_data[test_data_indices][:, train_learner_indices, :].transpose(0, 2, 3, 1, 4).reshape(-1, 1, 137)\n",
    "test_data_UL = lc_data[train_data_indices][:, test_learner_indices, :].transpose(0, 2, 3, 1, 4).reshape(-1, 1, 137)\n",
    "test_data_UDUL = lc_data[test_data_indices][:, test_learner_indices, :].transpose(0, 2, 3, 1, 4).reshape(-1, 1, 137)\n",
    "\n",
    "print(f\"Train data shape: {train_data.shape}\")\n",
    "print(f\"Test data KDKL shape: {test_data_KDKL.shape}\")\n",
    "print(f\"Test data UD shape: {test_data_UD.shape}\")\n",
    "print(f\"Test data UL shape: {test_data_UL.shape}\")\n",
    "print(f\"Test data UDUL shape: {test_data_UDUL.shape}\")\n",
    "\n",
    "test_KDKL_curves = []\n",
    "test_KDKL_curve_lengths = []\n",
    "\n",
    "for i in range(test_data_KDKL.shape[0]):\n",
    "    curve = test_data_KDKL[i, 0, :]\n",
    "    curve_length = np.count_nonzero(~np.isnan(curve))\n",
    "\n",
    "    if curve_length > 0:\n",
    "        test_KDKL_curves.append(curve)\n",
    "        test_KDKL_curve_lengths.append(curve_length)\n",
    "\n",
    "print(f\"KDKL Testing set size: {len(test_KDKL_curves)} curves\")\n",
    "\n",
    "test_UL_curves = []\n",
    "test_UL_curve_lengths = []\n",
    "\n",
    "for i in range(test_data_UL.shape[0]):\n",
    "    curve = test_data_UL[i, 0, :]\n",
    "    curve_length = np.count_nonzero(~np.isnan(curve))\n",
    "\n",
    "    if curve_length > 0:\n",
    "        test_UL_curves.append(curve)\n",
    "        test_UL_curve_lengths.append(curve_length)\n",
    "\n",
    "print(f\"UL Testing set size: {len(test_UL_curves)} curves\")\n",
    "\n",
    "test_UD_curves = []\n",
    "test_UD_curve_lengths = []\n",
    "\n",
    "for i in range(test_data_UD.shape[0]):\n",
    "    curve = test_data_UD[i, 0, :]\n",
    "    curve_length = np.count_nonzero(~np.isnan(curve))\n",
    "\n",
    "    if curve_length > 0:\n",
    "        test_UD_curves.append(curve)\n",
    "        test_UD_curve_lengths.append(curve_length)\n",
    "\n",
    "print(f\"UD Testing set size: {len(test_UD_curves)} curves\")\n",
    "\n",
    "test_UDUL_curves = []\n",
    "test_UDUL_curve_lengths = []\n",
    "\n",
    "for i in range(test_data_UDUL.shape[0]):\n",
    "    curve = test_data_UDUL[i, 0, :]\n",
    "    curve_length = np.count_nonzero(~np.isnan(curve))\n",
    "\n",
    "    if curve_length > 0:\n",
    "        test_UDUL_curves.append(curve)\n",
    "        test_UDUL_curve_lengths.append(curve_length)\n",
    "\n",
    "print(f\"UDUL Testing set size: {len(test_UDUL_curves)} curves\")"
   ]
  },
  {
   "cell_type": "code",
   "execution_count": 4,
   "id": "b01ddfbf-b894-427f-8a4f-9943d25abb3f",
   "metadata": {
    "execution": {
     "iopub.execute_input": "2025-06-05T10:13:10.818533Z",
     "iopub.status.busy": "2025-06-05T10:13:10.818222Z",
     "iopub.status.idle": "2025-06-05T10:13:11.201891Z",
     "shell.execute_reply": "2025-06-05T10:13:11.201176Z",
     "shell.execute_reply.started": "2025-06-05T10:13:10.818516Z"
    },
    "trusted": true
   },
   "outputs": [
    {
     "data": {
      "text/plain": "<matplotlib.legend.Legend at 0x20822776900>"
     },
     "execution_count": 4,
     "metadata": {},
     "output_type": "execute_result"
    },
    {
     "data": {
      "text/plain": "<Figure size 640x480 with 1 Axes>",
      "image/png": "[encoded data removed]"
     },
     "metadata": {},
     "output_type": "display_data"
    }
   ],
   "source": [
    "def augment(y, n_anchors):\n",
    "    y_min = np.nanmin(y)\n",
    "    y_max = np.nanmax(y)\n",
    "    if y_min >= y_max:\n",
    "        return y\n",
    "    anchors = np.random.uniform(0,1,(n_anchors,))\n",
    "    anchors.sort()\n",
    "    min_diff = 10**10\n",
    "    y_final = None\n",
    "    for i in range(n_anchors):\n",
    "        a_i = anchors[i]\n",
    "        for j in range(i+1, n_anchors):\n",
    "            a_j = anchors[j]\n",
    "            y_transformed = (a_j - a_i) / (y_max - y_min) * (y - y_min) + a_i\n",
    "            error = np.nansum((y - y_transformed)**2)\n",
    "            if error < min_diff:\n",
    "                min_diff = error\n",
    "                y_final = y_transformed\n",
    "                #print(f\"{y_transformed} ([{a_i},{a_j}], error: {error})\")\n",
    "    return y_final\n",
    "    \n",
    "y = np.array([0.2,0.3, 0.35, 0.3, 0.6, 0.7, 0.72])\n",
    "for i in range(100):\n",
    "    yy = augment(y, n_anchors=10)\n",
    "    if i==0:\n",
    "        plt.plot(yy,color=\"k\",alpha=0.2, label=\"augmented curves\")\n",
    "    else:\n",
    "        plt.plot(yy,color=\"k\",alpha=0.2)\n",
    "ax = plt.gca()\n",
    "\n",
    "# Hide X and Y axes label marks\n",
    "ax.xaxis.set_tick_params(labelbottom=False)\n",
    "ax.yaxis.set_tick_params(labelleft=False)\n",
    "\n",
    "# Hide X and Y axes tick marks\n",
    "ax.set_xticks([])\n",
    "ax.set_yticks([])\n",
    "plt.xlabel(\"Training Dataset Size\")\n",
    "plt.ylabel(\"Performance (e.g., accuracy)\")\n",
    "plt.ylim([0,1])\n",
    "plt.plot(y,color=\"blue\", linewidth=2, label=\"original curve\")\n",
    "plt.legend()"
   ]
  },
  {
   "cell_type": "code",
   "execution_count": 5,
   "id": "5c642a04",
   "metadata": {
    "execution": {
     "iopub.execute_input": "2025-06-05T10:13:11.203090Z",
     "iopub.status.busy": "2025-06-05T10:13:11.202787Z",
     "iopub.status.idle": "2025-06-05T10:13:11.455962Z",
     "shell.execute_reply": "2025-06-05T10:13:11.455134Z",
     "shell.execute_reply.started": "2025-06-05T10:13:11.203065Z"
    },
    "trusted": true
   },
   "outputs": [
    {
     "name": "stdout",
     "output_type": "stream",
     "text": [
      "Training set size: 98611 curves\n"
     ]
    }
   ],
   "source": [
    "lcdb_curves = []\n",
    "lcdb_curve_lengths = []\n",
    "\n",
    "for i in range(train_data.shape[0]):  \n",
    "    curve = train_data[i, 0, :]  \n",
    "    curve_length = np.count_nonzero(~np.isnan(curve)) \n",
    "    \n",
    "    if curve_length > 0:  \n",
    "        lcdb_curves.append(curve)\n",
    "        lcdb_curve_lengths.append(curve_length)\n",
    "\n",
    "print(f\"Training set size: {len(lcdb_curves)} curves\")"
   ]
  },
  {
   "cell_type": "code",
   "execution_count": 6,
   "id": "88402618-d7f9-48ae-b18f-9a288ef56aac",
   "metadata": {
    "execution": {
     "iopub.execute_input": "2025-06-05T10:13:11.457373Z",
     "iopub.status.busy": "2025-06-05T10:13:11.456796Z",
     "iopub.status.idle": "2025-06-05T10:13:36.931192Z",
     "shell.execute_reply": "2025-06-05T10:13:36.930549Z",
     "shell.execute_reply.started": "2025-06-05T10:13:11.457351Z"
    },
    "trusted": true
   },
   "outputs": [],
   "source": [
    "def save_training_test_data(train_data, test_data_KDKL, test_data_UD, test_data_UL, test_data_UDUL,\n",
    "                           train_data_indices, test_data_indices,\n",
    "                           train_learner_indices, test_learner_indices):\n",
    "\n",
    "    # Create directory if it doesn't exist\n",
    "    save_dir = f'../trained_models/exp1_{SEQ_LEN}_{EMSIZE}_{NLAYERS}_{NUM_BORDERS}_{LR}_{BATCH_SIZE}_{EPOCH}'\n",
    "    os.makedirs(save_dir, exist_ok=True)\n",
    "\n",
    "    saved_files = []\n",
    "\n",
    "    # Save training data\n",
    "    train_reshaped = train_data.reshape(train_data.shape[0], -1)\n",
    "    train_df = pd.DataFrame(train_reshaped, dtype=float)\n",
    "    train_path = os.path.join(save_dir, 'train_data.csv')\n",
    "    train_df.to_csv(train_path, index=False, na_rep='NaN')\n",
    "    saved_files.append(train_path)\n",
    "\n",
    "    # Save test data - KDKL (Known Dataset, Known Learner)\n",
    "    test_kdkl_reshaped = test_data_KDKL.reshape(test_data_KDKL.shape[0], -1)\n",
    "    test_kdkl_df = pd.DataFrame(test_kdkl_reshaped, dtype=float)\n",
    "    test_kdkl_path = os.path.join(save_dir, 'test_data_KDKL.csv')\n",
    "    test_kdkl_df.to_csv(test_kdkl_path, index=False, na_rep='NaN')\n",
    "    saved_files.append(test_kdkl_path)\n",
    "\n",
    "    # Save test data - UD (Unknown Dataset)\n",
    "    test_ud_reshaped = test_data_UD.reshape(test_data_UD.shape[0], -1)\n",
    "    test_ud_df = pd.DataFrame(test_ud_reshaped, dtype=float)\n",
    "    test_ud_path = os.path.join(save_dir, 'test_data_UD.csv')\n",
    "    test_ud_df.to_csv(test_ud_path, index=False, na_rep='NaN')\n",
    "    saved_files.append(test_ud_path)\n",
    "\n",
    "    # Save test data - UL (Unknown Learner)\n",
    "    test_ul_reshaped = test_data_UL.reshape(test_data_UL.shape[0], -1)\n",
    "    test_ul_df = pd.DataFrame(test_ul_reshaped, dtype=float)\n",
    "    test_ul_path = os.path.join(save_dir, 'test_data_UL.csv')\n",
    "    test_ul_df.to_csv(test_ul_path, index=False, na_rep='NaN')\n",
    "    saved_files.append(test_ul_path)\n",
    "\n",
    "    # Save test data - UDUL (Unknown Dataset, Unknown Learner)\n",
    "    test_udul_reshaped = test_data_UDUL.reshape(test_data_UDUL.shape[0], -1)\n",
    "    test_udul_df = pd.DataFrame(test_udul_reshaped, dtype=float)\n",
    "    test_udul_path = os.path.join(save_dir, 'test_data_UDUL.csv')\n",
    "    test_udul_df.to_csv(test_udul_path, index=False, na_rep='NaN')\n",
    "    saved_files.append(test_udul_path)\n",
    "\n",
    "    # Save indices\n",
    "    indices_data = {\n",
    "        'train_data_indices': train_data_indices,\n",
    "        'test_data_indices': test_data_indices,\n",
    "        'train_learner_indices': train_learner_indices,\n",
    "        'test_learner_indices': test_learner_indices\n",
    "    }\n",
    "\n",
    "    # Create a DataFrame for indices (pad shorter arrays with -1, then convert to float)\n",
    "    max_len = max(len(arr) for arr in indices_data.values())\n",
    "    indices_dict = {}\n",
    "    for key, arr in indices_data.items():\n",
    "        # Convert to float first, then pad with NaN\n",
    "        arr_float = arr.astype(float)\n",
    "        padded_arr = np.pad(arr_float, (0, max_len - len(arr_float)), constant_values=np.nan)\n",
    "        indices_dict[key] = padded_arr\n",
    "\n",
    "    indices_df = pd.DataFrame(indices_dict)\n",
    "    indices_path = os.path.join(save_dir, 'data_split_indices.csv')\n",
    "    indices_df.to_csv(indices_path, index=False, na_rep='NaN')\n",
    "    saved_files.append(indices_path)\n",
    "\n",
    "    print(f\"Saved {len(saved_files)} files:\")\n",
    "    for file_path in saved_files:\n",
    "        print(f\"  - {file_path}\")\n",
    "\n",
    "    return saved_files"
   ]
  },
  {
   "cell_type": "markdown",
   "id": "77a398e6-4253-471a-b528-713e5452af48",
   "metadata": {},
   "source": [
    "### Extrapolation using LC-PFN"
   ]
  },
  {
   "cell_type": "code",
   "execution_count": 7,
   "id": "701007c0",
   "metadata": {
    "execution": {
     "iopub.execute_input": "2025-06-05T10:13:36.932144Z",
     "iopub.status.busy": "2025-06-05T10:13:36.931931Z",
     "iopub.status.idle": "2025-06-05T10:13:36.957096Z",
     "shell.execute_reply": "2025-06-05T10:13:36.956455Z",
     "shell.execute_reply.started": "2025-06-05T10:13:36.932118Z"
    },
    "trusted": true
   },
   "outputs": [
    {
     "name": "stdout",
     "output_type": "stream",
     "text": [
      "(np.int64(54), 14)\n",
      "(np.int64(95), 82)\n",
      "(np.int64(24), 10)\n"
     ]
    }
   ],
   "source": [
    "SEED = 42\n",
    "random.seed(SEED)\n",
    "np.random.seed(SEED)\n",
    "torch.cuda.manual_seed(SEED)\n",
    "torch.manual_seed(SEED)\n",
    "\n",
    "# create a single eval pos, seq len samplers\n",
    "class LCDB_samplers():\n",
    "    # pick a training task, note that if multiple training tasks have the same length curves, the eventual batch will contain a mixture\n",
    "\n",
    "    def __init__(self, rng=np.random, verbose=False):\n",
    "        self.rng = rng\n",
    "        self.curve_length = self.rng.choice(lcdb_curve_lengths)\n",
    "        self.verbose = verbose\n",
    "\n",
    "    def seq_len(self):\n",
    "        self.curve_length = self.rng.choice(lcdb_curve_lengths)\n",
    "        if self.verbose:\n",
    "            print(f\"curve length: {self.curve_length}\")\n",
    "        return self.curve_length\n",
    "\n",
    "    def single_eval_pos(self):\n",
    "        sep = self.rng.randint(self.curve_length)\n",
    "        if self.verbose:\n",
    "            print(f\"single eval pos: {sep}\")\n",
    "        return sep\n",
    "\n",
    "lcdb_sampler = LCDB_samplers(verbose=False)\n",
    "\n",
    "for _ in range(3):\n",
    "    print((lcdb_sampler.seq_len(), lcdb_sampler.single_eval_pos()))"
   ]
  },
  {
   "cell_type": "code",
   "execution_count": 8,
   "id": "ca6d822a-13a5-49d5-b874-a5ddf13211f2",
   "metadata": {
    "execution": {
     "iopub.execute_input": "2025-06-05T10:13:36.959172Z",
     "iopub.status.busy": "2025-06-05T10:13:36.958961Z",
     "iopub.status.idle": "2025-06-05T10:13:36.962652Z",
     "shell.execute_reply": "2025-06-05T10:13:36.962015Z",
     "shell.execute_reply.started": "2025-06-05T10:13:36.959149Z"
    },
    "trusted": true
   },
   "outputs": [],
   "source": [
    "AUGMENT = True"
   ]
  },
  {
   "cell_type": "code",
   "execution_count": 16,
   "id": "f3f3bb71",
   "metadata": {
    "execution": {
     "iopub.execute_input": "2025-06-05T10:13:36.963608Z",
     "iopub.status.busy": "2025-06-05T10:13:36.963385Z",
     "iopub.status.idle": "2025-06-05T10:13:36.979461Z",
     "shell.execute_reply": "2025-06-05T10:13:36.978648Z",
     "shell.execute_reply.started": "2025-06-05T10:13:36.963585Z"
    },
    "trusted": true
   },
   "outputs": [
    {
     "name": "stdout",
     "output_type": "stream",
     "text": [
      "Using device: cpu\n"
     ]
    }
   ],
   "source": [
    "ddevice = torch.device('cuda' if torch.cuda.is_available() else 'cpu')\n",
    "print(f\"Using device: {ddevice}\")\n",
    "\n",
    "# generating batches from the LCDB dataset\n",
    "def get_batch_lcdb_real( batch_size, seq_len, num_features, device=ddevice, noisy_target=True, **_ ):\n",
    "    assert num_features == 1\n",
    "    assert noisy_target\n",
    "\n",
    "    ###### sample the curve data\n",
    "    x = np.empty((batch_size, seq_len), dtype=float)\n",
    "    y_target = np.empty((batch_size, seq_len), dtype=float)\n",
    "    y_noisy = np.empty((batch_size, seq_len), dtype=float)\n",
    "\n",
    "    # determine a list of cids having the desired curve length (TODO: precompute)\n",
    "    candidates = [cid for (cid, clen) in enumerate(lcdb_curve_lengths) if clen == seq_len]\n",
    "    cids = np.random.choice(candidates, batch_size, replace=True)\n",
    "    # replace = TRUE, cause sometimes the number of existing curves is smaller than batch size\n",
    "\n",
    "    for i, cid in enumerate(cids):\n",
    "        curve = lcdb_curves[cid]\n",
    "        if AUGMENT:\n",
    "            curve = augment(curve,n_anchors=10)\n",
    "        token_idx = 0\n",
    "        for j, y in enumerate(curve):\n",
    "            if np.isnan(y):\n",
    "                continue\n",
    "            else:\n",
    "                x[i, token_idx] = j+1\n",
    "                y_target[i, token_idx] = y\n",
    "                y_noisy[i, token_idx] = y\n",
    "                token_idx += 1\n",
    "        # assert(token_idx == seq_len)\n",
    "\n",
    "    # turn numpy arrays into correctly shaped torch tensors & move them to device\n",
    "    x = (torch.arange(1, seq_len + 1).repeat((num_features, batch_size, 1)).transpose(2, 0).to(device)).float()\n",
    "    y_target = torch.from_numpy(y_target).transpose(1, 0).to(device).float()\n",
    "    y_noisy = torch.from_numpy(y_noisy).transpose(1, 0).to(device).float()\n",
    "\n",
    "    return x, y_noisy, y_target\n",
    "\n",
    "def train_lcdbpfn(get_batch_func, seq_len, emsize, nlayers, num_borders, lr, batch_size, epochs, checkpoint_path):\n",
    "\n",
    "    # training hyperparameters\n",
    "    hps = {}\n",
    "\n",
    "    # PFN training hyperparameters\n",
    "    dataloader = lcpfn.priors.utils.get_batch_to_dataloader(get_batch_func)  # type: ignore\n",
    "\n",
    "    num_features = 1\n",
    "\n",
    "    ys = []\n",
    "    for curve in lcdb_curves:\n",
    "        ys.extend(curve)\n",
    "\n",
    "    ys = torch.FloatTensor(ys)\n",
    "    ys = torch.normal(ys,1e-5)\n",
    "\n",
    "    bucket_limits = bar_distribution.get_bucket_limits(num_borders, ys=ys)\n",
    "    #print(bucket_limits)\n",
    "\n",
    "    # Discretization of the predictive distributions\n",
    "    criterions = {\n",
    "        num_features: {\n",
    "            num_borders: bar_distribution.FullSupportBarDistribution(bucket_limits)\n",
    "        }\n",
    "    }\n",
    "\n",
    "\n",
    "    config = dict(\n",
    "        nlayers=nlayers,\n",
    "        priordataloader_class=dataloader,\n",
    "        criterion=criterions[num_features][num_borders],\n",
    "        encoder_generator=lambda in_dim, out_dim: torch.nn.Sequential(\n",
    "            encoders.Normalize(0.0, 101.0),\n",
    "            encoders.Normalize(0.5, math.sqrt(1 / 12)),\n",
    "            encoders.Linear(in_dim, out_dim),\n",
    "        ),\n",
    "        emsize=emsize,\n",
    "        nhead=(emsize // 128),\n",
    "        warmup_epochs=(epochs // 4),\n",
    "        y_encoder_generator=encoders.get_normalized_uniform_encoder(encoders.Linear),\n",
    "        batch_size=batch_size,\n",
    "        scheduler=lcpfn.utils.get_cosine_schedule_with_warmup,\n",
    "        extra_prior_kwargs_dict={\n",
    "            # \"num_workers\": 10,\n",
    "            \"num_features\": num_features,\n",
    "            \"hyperparameters\": {\n",
    "                **hps,\n",
    "            },\n",
    "        },\n",
    "        epochs=epochs,\n",
    "        lr=lr,\n",
    "        bptt=seq_len,\n",
    "        seq_len_gen=lcdb_sampler.seq_len,\n",
    "        single_eval_pos_gen=lambda: LCDB_samplers().single_eval_pos(),\n",
    "        aggregate_k_gradients=1,\n",
    "        nhid=(emsize * 2),\n",
    "        steps_per_epoch=100,\n",
    "        train_mixed_precision=False,\n",
    "        checkpoint_path = checkpoint_path\n",
    "    )\n",
    "\n",
    "    return lctrain.train(**config)"
   ]
  },
  {
   "cell_type": "code",
   "execution_count": 17,
   "id": "c011bde4",
   "metadata": {
    "execution": {
     "iopub.execute_input": "2025-06-05T10:13:36.980947Z",
     "iopub.status.busy": "2025-06-05T10:13:36.980338Z",
     "iopub.status.idle": "2025-06-05T19:46:54.455019Z",
     "shell.execute_reply": "2025-06-05T19:46:54.454127Z",
     "shell.execute_reply.started": "2025-06-05T10:13:36.980923Z"
    },
    "trusted": true
   },
   "outputs": [
    {
     "name": "stdout",
     "output_type": "stream",
     "text": [
      "Using 6192000 y evals to estimate 1000 buckets. Cut off the last 0 ys.\n",
      "Using cpu:0 device\n",
      "init dist\n",
      "Not using distributed\n",
      "DataLoader.__dict__ {'num_steps': 100, 'get_batch_kwargs': {'batch_size': 10, 'eval_pos_seq_len_sampler': <function train.<locals>.eval_pos_seq_len_sampler at 0x00000208703A4E00>, 'seq_len_maximum': 300, 'device': 'cpu:0', 'num_features': 1, 'hyperparameters': {}}, 'num_features': 1}\n",
      "Style definition: None\n",
      "Using a Transformer with 1.70 M parameters\n",
      "Invalid optimization step encountered\n",
      "----------------------------------------------------------------------\n",
      "| end of epoch   1 | mean loss NLL -0.26 | lr 0.0 | pos losses -0.46, 0.25,-0.22, 0.02,-0.24,-0.12,  nan,-0.33,-0.76, 0.23, 0.00,-0.49,-0.36,-0.25,-0.17,  nan,-0.37,  nan, 0.20,  nan, 0.15,-0.27,-0.38,-0.20,-0.38,-0.27, 0.13,-0.28,-0.05,-1.20,  nan,  nan,-0.42,  nan,-0.75,-0.57,-0.25,-0.72, 0.06,  nan,  nan,  nan,-0.34,-0.58,-0.52, 0.14,-0.14,-0.48,  nan,-0.68,-0.06,  nan,-0.42,  nan,  nan,  nan,  nan,  nan,  nan,-0.28,  nan,  nan,  nan,-0.74,  nan,  nan,  nan,-0.08,  nan,  nan,  nan,  nan,  nan,  nan,  nan,  nan,  nan,  nan,  nan,  nan,  nan,  nan,  nan,  nan,  nan,  nan,  nan,  nan,  nan,  nan,  nan,  nan,-0.48,  nan,  nan,  nan,  nan,  nan,  nan,  nan,  nan,  nan,  nan,  nan,  nan,  nan,  nan,  nan,  nan,  nan,  nan,  nan,  nan,  nan,  nan,  nan,  nan,  nan,  nan,  nan,  nan,  nan,  nan,  nan,  nan,  nan,  nan,  nan,  nan,  nan,  nan,  nan,  nan,  nan,  nan,  nan,  nan,  nan,  nan,  nan,  nan,  nan,  nan,  nan,  nan,  nan,  nan,  nan,  nan,  nan,  nan,  nan,  nan,  nan,  nan,  nan,  nan,  nan,  nan,  nan,  nan,  nan,  nan,  nan,  nan,  nan,  nan,  nan,  nan,  nan,  nan,  nan,  nan,  nan,  nan,  nan,  nan,  nan,  nan,  nan,  nan,  nan,  nan,  nan,  nan,  nan,  nan,  nan,  nan,  nan,  nan,  nan,  nan,  nan,  nan,  nan,  nan,  nan,  nan,  nan,  nan,  nan,  nan,  nan,  nan,  nan,  nan,  nan,  nan,  nan,  nan,  nan,  nan,  nan,  nan,  nan,  nan,  nan,  nan,  nan,  nan,  nan,  nan,  nan,  nan,  nan,  nan,  nan,  nan,  nan,  nan,  nan,  nan,  nan,  nan,  nan,  nan,  nan,  nan,  nan,  nan,  nan,  nan,  nan,  nan,  nan,  nan,  nan,  nan,  nan,  nan,  nan,  nan,  nan,  nan,  nan,  nan,  nan,  nan,  nan,  nan,  nan,  nan,  nan,  nan,  nan,  nan,  nan,  nan,  nan,  nan,  nan,  nan,  nan,  nan,  nan,  nan,  nan,  nan,  nan,  nan,  nan,  nan,  nan,  nan,  nan,  nan,  nan,  nan,  nan,  nan,  nan,  nan,  nan,  nan,  nan,  nan,  nan,  nan,  nan \n",
      "----------------------------------------------------------------------\n",
      "| end of epoch   2 | mean loss NLL -0.24 | lr 4.000000000000001e-06 | pos losses  0.36,-0.28,  nan,-0.03,-0.87, 0.12,-0.18,-0.21,-0.40,-0.26,-0.99,-0.57,-1.17,-0.02,-0.28,-0.30, 0.01,-0.11,-0.08,-0.70,-0.02,-0.04,  nan,-0.20,-0.59,-0.47,-0.38,  nan,  nan,-0.62,-0.28,-0.50,-0.56,-0.12,-0.29,-1.29,-0.85,-0.13,  nan,  nan, 0.15,-0.22,  nan,-0.11,-0.32,-0.60,  nan,-0.27, 0.34,  nan,  nan,-0.06,  nan,  nan,  nan,  nan,  nan,  nan, 0.07,-0.63,  nan,  nan,  nan,  nan,  nan,  nan,  nan,  nan,  nan,-0.25,  nan,  nan,  nan,  nan,  nan,  nan,  nan,  nan,  nan,  nan,  nan,  nan,  nan,  nan,  nan,  nan,  nan,  nan,  nan,  nan,  nan,  nan,  nan,  nan,  nan,  nan,  nan,  nan,  nan,  nan,  nan,  nan,  nan,  nan,  nan,  nan,  nan,  nan,  nan,  nan,  nan,  nan,  nan,  nan,  nan,  nan,  nan,  nan,  nan,  nan,  nan,  nan,  nan,  nan,  nan,  nan,  nan,  nan,  nan,  nan,  nan,  nan,  nan,  nan,  nan,  nan,  nan,  nan,  nan,  nan,  nan,  nan,  nan,  nan,  nan,  nan,  nan,  nan,  nan,  nan,  nan,  nan,  nan,  nan,  nan,  nan,  nan,  nan,  nan,  nan,  nan,  nan,  nan,  nan,  nan,  nan,  nan,  nan,  nan,  nan,  nan,  nan,  nan,  nan,  nan,  nan,  nan,  nan,  nan,  nan,  nan,  nan,  nan,  nan,  nan,  nan,  nan,  nan,  nan,  nan,  nan,  nan,  nan,  nan,  nan,  nan,  nan,  nan,  nan,  nan,  nan,  nan,  nan,  nan,  nan,  nan,  nan,  nan,  nan,  nan,  nan,  nan,  nan,  nan,  nan,  nan,  nan,  nan,  nan,  nan,  nan,  nan,  nan,  nan,  nan,  nan,  nan,  nan,  nan,  nan,  nan,  nan,  nan,  nan,  nan,  nan,  nan,  nan,  nan,  nan,  nan,  nan,  nan,  nan,  nan,  nan,  nan,  nan,  nan,  nan,  nan,  nan,  nan,  nan,  nan,  nan,  nan,  nan,  nan,  nan,  nan,  nan,  nan,  nan,  nan,  nan,  nan,  nan,  nan,  nan,  nan,  nan,  nan,  nan,  nan,  nan,  nan,  nan,  nan,  nan,  nan,  nan,  nan,  nan,  nan,  nan,  nan,  nan,  nan,  nan,  nan,  nan,  nan,  nan,  nan,  nan,  nan,  nan,  nan,  nan \n",
      "----------------------------------------------------------------------\n",
      "| end of epoch   3 | mean loss NLL -0.21 | lr 8.000000000000001e-06 | pos losses  0.01,  nan, 0.00,-1.05,-0.26,-0.00, 0.17, 0.22,-1.58,  nan,-0.22,  nan, 0.31,-0.43,-0.28,  nan, 0.12,  nan,-0.06,-0.38,-0.10, 0.46,-0.18,-0.20, 0.00,-0.13,-0.28,-0.14,-0.29,-0.26,-0.25,  nan,  nan,-0.70,-0.24,  nan,-0.18,-0.08,-1.48,-0.56,-0.45,-0.27,  nan,-0.15,-0.46,  nan,  nan,  nan, 0.26,-0.08,-0.47,-0.25,  nan,  nan,-0.58,  nan,  nan,-0.19,  nan,-0.09,  nan, 0.22,  nan,-1.24,  nan,  nan,-0.20,  nan,  nan,-0.55,  nan,  nan,  nan,  nan,  nan,  nan,  nan,-0.62,  nan,  nan,  nan,  nan,  nan,  nan,  nan,  nan,  nan,  nan,  nan,  nan,  nan,  nan,  nan,  nan,  nan,  nan,  nan,  nan,  nan,  nan,  nan,  nan,  nan,  nan,  nan,  nan,  nan,  nan,  nan,  nan,  nan,  nan,  nan,  nan,  nan,  nan,  nan,  nan,  nan,  nan,  nan,  nan,  nan,  nan,  nan,  nan,  nan,  nan,  nan,  nan,  nan,  nan,  nan,  nan,  nan,  nan,  nan,  nan,  nan,  nan,  nan,  nan,  nan,  nan,  nan,  nan,  nan,  nan,  nan,  nan,  nan,  nan,  nan,  nan,  nan,  nan,  nan,  nan,  nan,  nan,  nan,  nan,  nan,  nan,  nan,  nan,  nan,  nan,  nan,  nan,  nan,  nan,  nan,  nan,  nan,  nan,  nan,  nan,  nan,  nan,  nan,  nan,  nan,  nan,  nan,  nan,  nan,  nan,  nan,  nan,  nan,  nan,  nan,  nan,  nan,  nan,  nan,  nan,  nan,  nan,  nan,  nan,  nan,  nan,  nan,  nan,  nan,  nan,  nan,  nan,  nan,  nan,  nan,  nan,  nan,  nan,  nan,  nan,  nan,  nan,  nan,  nan,  nan,  nan,  nan,  nan,  nan,  nan,  nan,  nan,  nan,  nan,  nan,  nan,  nan,  nan,  nan,  nan,  nan,  nan,  nan,  nan,  nan,  nan,  nan,  nan,  nan,  nan,  nan,  nan,  nan,  nan,  nan,  nan,  nan,  nan,  nan,  nan,  nan,  nan,  nan,  nan,  nan,  nan,  nan,  nan,  nan,  nan,  nan,  nan,  nan,  nan,  nan,  nan,  nan,  nan,  nan,  nan,  nan,  nan,  nan,  nan,  nan,  nan,  nan,  nan,  nan,  nan,  nan,  nan,  nan,  nan,  nan,  nan,  nan,  nan,  nan,  nan,  nan,  nan \n",
      "----------------------------------------------------------------------\n",
      "| end of epoch   4 | mean loss NLL -0.14 | lr 1.2e-05 | pos losses -0.46,-0.36,  nan,-0.39,  nan,-0.00,  nan,-0.61, 0.09,-0.48,-0.34,-0.35,-0.01,-0.54,-0.23,-0.34,-0.10, 0.21,-0.10,-0.16, 0.10,-0.59,-0.36, 0.02,  nan, 0.26, 0.28, 0.01,  nan,  nan,-0.32, 1.00,-0.12,-0.48,  nan,-0.50,  nan, 0.62,-0.37,-0.14,-0.16,-0.31,  nan, 0.15,-0.59,  nan,  nan,  nan, 0.91,-0.02,-0.33,  nan,  nan,  nan,  nan,  nan,-0.70,  nan,  nan,-0.31,  nan,  nan,  nan,-0.41,  nan,  nan,  nan,  nan,  nan,  nan,  nan,  nan,  nan,-1.09,  nan,  nan,  nan,  nan,  nan,  nan,  nan,  nan,  nan, 0.81,  nan,  nan,  nan,  nan,  nan,  nan,  nan,  nan,  nan,  nan,  nan,  nan,  nan,  nan,  nan,  nan,  nan,  nan,  nan,  nan,  nan,  nan,  nan,  nan,  nan,  nan,  nan,  nan,  nan,  nan,  nan,  nan,  nan,  nan,  nan,  nan,  nan,  nan,  nan,  nan,  nan,  nan,  nan,  nan,  nan,  nan,  nan,  nan,  nan,  nan,  nan,  nan,  nan,  nan,  nan,  nan,  nan,  nan,  nan,  nan,  nan,  nan,  nan,  nan,  nan,  nan,  nan,  nan,  nan,  nan,  nan,  nan,  nan,  nan,  nan,  nan,  nan,  nan,  nan,  nan,  nan,  nan,  nan,  nan,  nan,  nan,  nan,  nan,  nan,  nan,  nan,  nan,  nan,  nan,  nan,  nan,  nan,  nan,  nan,  nan,  nan,  nan,  nan,  nan,  nan,  nan,  nan,  nan,  nan,  nan,  nan,  nan,  nan,  nan,  nan,  nan,  nan,  nan,  nan,  nan,  nan,  nan,  nan,  nan,  nan,  nan,  nan,  nan,  nan,  nan,  nan,  nan,  nan,  nan,  nan,  nan,  nan,  nan,  nan,  nan,  nan,  nan,  nan,  nan,  nan,  nan,  nan,  nan,  nan,  nan,  nan,  nan,  nan,  nan,  nan,  nan,  nan,  nan,  nan,  nan,  nan,  nan,  nan,  nan,  nan,  nan,  nan,  nan,  nan,  nan,  nan,  nan,  nan,  nan,  nan,  nan,  nan,  nan,  nan,  nan,  nan,  nan,  nan,  nan,  nan,  nan,  nan,  nan,  nan,  nan,  nan,  nan,  nan,  nan,  nan,  nan,  nan,  nan,  nan,  nan,  nan,  nan,  nan,  nan,  nan,  nan,  nan,  nan,  nan,  nan,  nan,  nan,  nan,  nan,  nan,  nan \n",
      "----------------------------------------------------------------------\n",
      "| end of epoch   5 | mean loss NLL -0.32 | lr 1.6000000000000003e-05 | pos losses -0.53,  nan,-0.56,  nan,-0.01,-0.54,-0.16,-0.39, 1.16,-1.34,-0.05,-0.08,-0.40,-0.46,-0.63,-0.73, 0.23,-0.59,-0.78,-0.22,-0.79,-0.34,  nan,-0.40, 0.10,-0.42,-0.24,-0.55, 0.13,-0.46,  nan,-0.33,-0.28,  nan,-0.28,-0.65,-0.30,-0.80,  nan,-0.23,-0.49,-0.31,-0.47,-0.69,-0.30, 0.57,  nan,-0.32,-0.42,  nan,  nan,  nan,  nan,-0.26,-0.14, 0.09,  nan,-0.85,  nan,  nan,  nan,  nan,  nan,  nan,  nan,  nan,-0.39,  nan,  nan,  nan,  nan,  nan,  nan,  nan,  nan,  nan,  nan,  nan,  nan,  nan,  nan,  nan,  nan,  nan,  nan,  nan,  nan,  nan,  nan,  nan,  nan,  nan,  nan,  nan,  nan,  nan,  nan,  nan,  nan,  nan,  nan,  nan,  nan,  nan,  nan,  nan,  nan,  nan,  nan,  nan,  nan,  nan,  nan,  nan,  nan,  nan,  nan,  nan,  nan,  nan,  nan,  nan,  nan,  nan,  nan,  nan,  nan,  nan,  nan,  nan,  nan,  nan,  nan,  nan,  nan,  nan,  nan,  nan,  nan,  nan,  nan,  nan,  nan,  nan,  nan,  nan,  nan,  nan,  nan,  nan,  nan,  nan,  nan,  nan,  nan,  nan,  nan,  nan,  nan,  nan,  nan,  nan,  nan,  nan,  nan,  nan,  nan,  nan,  nan,  nan,  nan,  nan,  nan,  nan,  nan,  nan,  nan,  nan,  nan,  nan,  nan,  nan,  nan,  nan,  nan,  nan,  nan,  nan,  nan,  nan,  nan,  nan,  nan,  nan,  nan,  nan,  nan,  nan,  nan,  nan,  nan,  nan,  nan,  nan,  nan,  nan,  nan,  nan,  nan,  nan,  nan,  nan,  nan,  nan,  nan,  nan,  nan,  nan,  nan,  nan,  nan,  nan,  nan,  nan,  nan,  nan,  nan,  nan,  nan,  nan,  nan,  nan,  nan,  nan,  nan,  nan,  nan,  nan,  nan,  nan,  nan,  nan,  nan,  nan,  nan,  nan,  nan,  nan,  nan,  nan,  nan,  nan,  nan,  nan,  nan,  nan,  nan,  nan,  nan,  nan,  nan,  nan,  nan,  nan,  nan,  nan,  nan,  nan,  nan,  nan,  nan,  nan,  nan,  nan,  nan,  nan,  nan,  nan,  nan,  nan,  nan,  nan,  nan,  nan,  nan,  nan,  nan,  nan,  nan,  nan,  nan,  nan,  nan,  nan,  nan,  nan,  nan,  nan,  nan,  nan \n",
      "----------------------------------------------------------------------\n",
      "| end of epoch   6 | mean loss NLL -0.23 | lr 2e-05 | pos losses -0.06,-0.63,  nan,-0.16,  nan,-0.34,  nan, 0.19,-0.49,-0.08,-0.48,-0.75,  nan,-0.49,-0.54,  nan,-0.29, 0.41,-0.50, 0.18,-0.39,-0.04,-0.46,-0.30,  nan,-0.50,-0.21, 0.14,  nan,-0.19,-0.27,-0.88,  nan,-0.17,-0.56,-0.12,  nan,-0.35,-0.53,  nan,  nan,-0.18,  nan,-0.41,  nan,  nan,-0.06,-0.02,-0.10,  nan,  nan,  nan,  nan,-0.04,-0.18,  nan,  nan, 0.08,  nan,  nan,  nan,  nan,  nan,-0.23,  nan,  nan,-0.27, 1.02,  nan,  nan,  nan,  nan,  nan,  nan,  nan,  nan,  nan,  nan,  nan,  nan,  nan,  nan,  nan,  nan,  nan,  nan,  nan,  nan,  nan,  nan,  nan,  nan,  nan,  nan,  nan,  nan,  nan,  nan,  nan,  nan,  nan,  nan,  nan,  nan,  nan,  nan,  nan,  nan,  nan,  nan,  nan,  nan,  nan,  nan,  nan,  nan,  nan,  nan,  nan,  nan,  nan,  nan,  nan,  nan,  nan,  nan,  nan,  nan,  nan,  nan,  nan,  nan,  nan,  nan,  nan,  nan,  nan,  nan,  nan,  nan,  nan,  nan,  nan,  nan,  nan,  nan,  nan,  nan,  nan,  nan,  nan,  nan,  nan,  nan,  nan,  nan,  nan,  nan,  nan,  nan,  nan,  nan,  nan,  nan,  nan,  nan,  nan,  nan,  nan,  nan,  nan,  nan,  nan,  nan,  nan,  nan,  nan,  nan,  nan,  nan,  nan,  nan,  nan,  nan,  nan,  nan,  nan,  nan,  nan,  nan,  nan,  nan,  nan,  nan,  nan,  nan,  nan,  nan,  nan,  nan,  nan,  nan,  nan,  nan,  nan,  nan,  nan,  nan,  nan,  nan,  nan,  nan,  nan,  nan,  nan,  nan,  nan,  nan,  nan,  nan,  nan,  nan,  nan,  nan,  nan,  nan,  nan,  nan,  nan,  nan,  nan,  nan,  nan,  nan,  nan,  nan,  nan,  nan,  nan,  nan,  nan,  nan,  nan,  nan,  nan,  nan,  nan,  nan,  nan,  nan,  nan,  nan,  nan,  nan,  nan,  nan,  nan,  nan,  nan,  nan,  nan,  nan,  nan,  nan,  nan,  nan,  nan,  nan,  nan,  nan,  nan,  nan,  nan,  nan,  nan,  nan,  nan,  nan,  nan,  nan,  nan,  nan,  nan,  nan,  nan,  nan,  nan,  nan,  nan,  nan,  nan,  nan,  nan,  nan,  nan,  nan,  nan,  nan,  nan,  nan \n",
      "----------------------------------------------------------------------\n",
      "| end of epoch   7 | mean loss NLL -0.26 | lr 2.4e-05 | pos losses  0.09, 0.04,-0.47,-0.07,-0.01,  nan,-0.06,-0.41,-0.24,-0.33,-0.34,-0.25,-0.46,-0.42,-0.22,-1.46,-0.57,-0.22, 0.12,-0.28,-0.31,-0.16,-0.00,-1.33,-1.06,-0.28,-0.52,-0.56,-0.03,-0.23,  nan,  nan,-0.10,-0.26,  nan,-0.28,-0.46,-0.28,-0.18,-0.73, 0.05,-0.16,  nan,-0.16,  nan,  nan,-0.39,-0.65,  nan, 0.02,  nan,  nan,  nan,-0.51,  nan,  nan,  nan,  nan,-1.16,-0.21,  nan,  nan,  nan,  nan,  nan,  nan,-1.02,  nan,  nan,  nan,  nan,  nan,  nan,  nan,  nan,-0.68,  nan,  nan,  nan,  nan,  nan,  nan,  nan,  nan,  nan,  nan,  nan,  nan,  nan,  nan,  nan,  nan,  nan, 0.53,  nan,  nan,  nan,  nan,  nan,  nan,  nan,  nan,  nan,  nan,  nan,  nan,  nan,  nan,  nan,  nan,  nan,  nan,  nan,  nan,  nan,  nan,  nan,  nan,  nan,  nan,  nan,  nan,  nan,  nan,  nan,  nan,  nan,  nan,  nan,  nan,  nan,  nan,  nan,  nan,  nan,  nan,  nan,  nan,  nan,  nan,  nan,  nan,  nan,  nan,  nan,  nan,  nan,  nan,  nan,  nan,  nan,  nan,  nan,  nan,  nan,  nan,  nan,  nan,  nan,  nan,  nan,  nan,  nan,  nan,  nan,  nan,  nan,  nan,  nan,  nan,  nan,  nan,  nan,  nan,  nan,  nan,  nan,  nan,  nan,  nan,  nan,  nan,  nan,  nan,  nan,  nan,  nan,  nan,  nan,  nan,  nan,  nan,  nan,  nan,  nan,  nan,  nan,  nan,  nan,  nan,  nan,  nan,  nan,  nan,  nan,  nan,  nan,  nan,  nan,  nan,  nan,  nan,  nan,  nan,  nan,  nan,  nan,  nan,  nan,  nan,  nan,  nan,  nan,  nan,  nan,  nan,  nan,  nan,  nan,  nan,  nan,  nan,  nan,  nan,  nan,  nan,  nan,  nan,  nan,  nan,  nan,  nan,  nan,  nan,  nan,  nan,  nan,  nan,  nan,  nan,  nan,  nan,  nan,  nan,  nan,  nan,  nan,  nan,  nan,  nan,  nan,  nan,  nan,  nan,  nan,  nan,  nan,  nan,  nan,  nan,  nan,  nan,  nan,  nan,  nan,  nan,  nan,  nan,  nan,  nan,  nan,  nan,  nan,  nan,  nan,  nan,  nan,  nan,  nan,  nan,  nan,  nan,  nan,  nan,  nan,  nan,  nan,  nan,  nan,  nan \n",
      "----------------------------------------------------------------------\n",
      "| end of epoch   8 | mean loss NLL -0.40 | lr 2.8000000000000003e-05 | pos losses -0.40,-0.38,-0.26,-0.32,  nan,-0.88,  nan,  nan,-0.47,-0.62,-0.37,-0.04,-0.18,-0.30,-0.45,-0.62,  nan,-0.32,-0.40,  nan,-0.89,-0.58,  nan,  nan,-0.18,-0.28,-0.57,-0.58, 0.12,-0.80,-0.66,-1.20,  nan,-0.59,-0.49,-0.44,-1.09,  nan,-1.57,-0.45,-0.50, 0.06,  nan,-0.72,-0.51,-0.98,-0.45,-0.53,-0.18,  nan,  nan,-0.16,-0.78,-0.35,  nan,-0.20,  nan,  nan,  nan,  nan,-0.32,-0.59,  nan,  nan,  nan,-0.39,  nan,  nan,  nan,  nan,  nan,  nan,  nan,  nan,  nan,  nan,  nan,  nan,  nan,  nan,  nan,  nan,  nan,  nan,  nan,  nan,  nan,  nan,  nan,  nan,  nan,  nan,  nan,  nan,  nan,  nan,  nan,  nan,  nan,  nan,  nan,  nan,  nan,  nan,  nan,  nan,  nan,  nan,  nan,  nan,  nan,  nan,  nan,  nan,  nan,  nan,  nan,  nan,  nan,  nan,  nan,  nan,  nan,  nan,  nan,  nan,  nan,  nan,  nan,  nan,  nan,  nan,  nan,  nan,  nan,  nan,  nan,  nan,  nan,  nan,  nan,  nan,  nan,  nan,  nan,  nan,  nan,  nan,  nan,  nan,  nan,  nan,  nan,  nan,  nan,  nan,  nan,  nan,  nan,  nan,  nan,  nan,  nan,  nan,  nan,  nan,  nan,  nan,  nan,  nan,  nan,  nan,  nan,  nan,  nan,  nan,  nan,  nan,  nan,  nan,  nan,  nan,  nan,  nan,  nan,  nan,  nan,  nan,  nan,  nan,  nan,  nan,  nan,  nan,  nan,  nan,  nan,  nan,  nan,  nan,  nan,  nan,  nan,  nan,  nan,  nan,  nan,  nan,  nan,  nan,  nan,  nan,  nan,  nan,  nan,  nan,  nan,  nan,  nan,  nan,  nan,  nan,  nan,  nan,  nan,  nan,  nan,  nan,  nan,  nan,  nan,  nan,  nan,  nan,  nan,  nan,  nan,  nan,  nan,  nan,  nan,  nan,  nan,  nan,  nan,  nan,  nan,  nan,  nan,  nan,  nan,  nan,  nan,  nan,  nan,  nan,  nan,  nan,  nan,  nan,  nan,  nan,  nan,  nan,  nan,  nan,  nan,  nan,  nan,  nan,  nan,  nan,  nan,  nan,  nan,  nan,  nan,  nan,  nan,  nan,  nan,  nan,  nan,  nan,  nan,  nan,  nan,  nan,  nan,  nan,  nan,  nan,  nan,  nan,  nan,  nan,  nan,  nan,  nan,  nan \n",
      "Invalid optimization step encountered\n",
      "----------------------------------------------------------------------\n",
      "| end of epoch   9 | mean loss NLL -0.36 | lr 3.2000000000000005e-05 | pos losses  0.29,-0.32,-0.56,-0.75,-0.44, 0.05,-0.44,-0.28,-0.30, 0.15,-0.47,-0.37,-0.79,-0.63,-1.06,-0.11,-0.24,-0.29,  nan,-0.23,-0.76,-0.80,-0.65,-0.58,-0.78, 0.36,-0.40,-0.38,  nan,-0.48,-0.47,  nan,  nan,-0.81, 0.21,-0.40,-0.55,-0.07,  nan, 0.65,-0.21,-0.46,  nan,-0.78,  nan,-0.29,-0.30,  nan,-0.68,  nan,  nan,-0.55,  nan,-0.53,  nan,  nan,  nan,-0.52,  nan,  nan,  nan,  nan,  nan,  nan,  nan,-0.63,-1.24,-0.39, 0.45,  nan,  nan,-0.18,  nan,  nan,  nan,  nan,  nan,  nan,  nan,  nan,  nan,  nan,  nan,  nan,  nan,  nan,  nan,  nan,  nan,-0.69,  nan,  nan,  nan,  nan,  nan,  nan,  nan,  nan,  nan,  nan,  nan,  nan,  nan,  nan,  nan,  nan,  nan,  nan,  nan,  nan,  nan,  nan,  nan,  nan,  nan,  nan,  nan,  nan,  nan,  nan,  nan,  nan,  nan,  nan,  nan,  nan,  nan,  nan,  nan,  nan,  nan,  nan,  nan,  nan,  nan,  nan,  nan,  nan,  nan,  nan,  nan,  nan,  nan,  nan,  nan,  nan,  nan,  nan,  nan,  nan,  nan,  nan,  nan,  nan,  nan,  nan,  nan,  nan,  nan,  nan,  nan,  nan,  nan,  nan,  nan,  nan,  nan,  nan,  nan,  nan,  nan,  nan,  nan,  nan,  nan,  nan,  nan,  nan,  nan,  nan,  nan,  nan,  nan,  nan,  nan,  nan,  nan,  nan,  nan,  nan,  nan,  nan,  nan,  nan,  nan,  nan,  nan,  nan,  nan,  nan,  nan,  nan,  nan,  nan,  nan,  nan,  nan,  nan,  nan,  nan,  nan,  nan,  nan,  nan,  nan,  nan,  nan,  nan,  nan,  nan,  nan,  nan,  nan,  nan,  nan,  nan,  nan,  nan,  nan,  nan,  nan,  nan,  nan,  nan,  nan,  nan,  nan,  nan,  nan,  nan,  nan,  nan,  nan,  nan,  nan,  nan,  nan,  nan,  nan,  nan,  nan,  nan,  nan,  nan,  nan,  nan,  nan,  nan,  nan,  nan,  nan,  nan,  nan,  nan,  nan,  nan,  nan,  nan,  nan,  nan,  nan,  nan,  nan,  nan,  nan,  nan,  nan,  nan,  nan,  nan,  nan,  nan,  nan,  nan,  nan,  nan,  nan,  nan,  nan,  nan,  nan,  nan,  nan,  nan,  nan,  nan,  nan,  nan,  nan,  nan \n"
     ]
    }
   ],
   "source": [
    "SEED = 42\n",
    "random.seed(SEED)\n",
    "np.random.seed(SEED)\n",
    "torch.cuda.manual_seed(SEED)\n",
    "torch.manual_seed(SEED)\n",
    "\n",
    "# local training\n",
    "SEQ_LEN = 140\n",
    "EMSIZE = 512\n",
    "NLAYERS = 12\n",
    "NUM_BORDERS = 1000\n",
    "LR = 0.0001\n",
    "BATCH_SIZE = 100\n",
    "EPOCH = 1000\n",
    "\n",
    "# batch size 100 x step size 100 x 1000 epochs = 10 million augmented curves will be generated during the batch creation in training\n",
    "\n",
    "result = train_lcdbpfn(\n",
    "    get_batch_func = get_batch_lcdb_real,\n",
    "    seq_len = SEQ_LEN,\n",
    "    emsize = EMSIZE,\n",
    "    nlayers = NLAYERS,\n",
    "    num_borders = NUM_BORDERS,\n",
    "    lr = LR,\n",
    "    batch_size = BATCH_SIZE,\n",
    "    epochs = EPOCH,\n",
    "    checkpoint_path=experiments_path\n",
    ")"
   ]
  },
  {
   "cell_type": "code",
   "execution_count": 58,
   "id": "dadc0977-3126-45bc-a5d8-61cd5d305abe",
   "metadata": {
    "execution": {
     "iopub.execute_input": "2025-06-05T19:46:54.456373Z",
     "iopub.status.busy": "2025-06-05T19:46:54.455998Z",
     "iopub.status.idle": "2025-06-05T19:46:54.593663Z",
     "shell.execute_reply": "2025-06-05T19:46:54.593011Z",
     "shell.execute_reply.started": "2025-06-05T19:46:54.456350Z"
    },
    "trusted": true
   },
   "outputs": [
    {
     "name": "stdout",
     "output_type": "stream",
     "text": [
      "Model saved successfully!\n",
      "Saved 6 files:\n",
      "  - ../trained_models/exp1_200_512_12_1000_0.0001_100_1000\\train_data.csv\n",
      "  - ../trained_models/exp1_200_512_12_1000_0.0001_100_1000\\test_data_KDKL.csv\n",
      "  - ../trained_models/exp1_200_512_12_1000_0.0001_100_1000\\test_data_UD.csv\n",
      "  - ../trained_models/exp1_200_512_12_1000_0.0001_100_1000\\test_data_UL.csv\n",
      "  - ../trained_models/exp1_200_512_12_1000_0.0001_100_1000\\test_data_UDUL.csv\n",
      "  - ../trained_models/exp1_200_512_12_1000_0.0001_100_1000\\data_split_indices.csv\n",
      "Data saved successfully!\n",
      "TransformerModel(\n",
      "  (transformer_encoder): TransformerEncoder(\n",
      "    (layers): ModuleList(\n",
      "      (0-11): 12 x TransformerEncoderLayer(\n",
      "        (self_attn): MultiheadAttention(\n",
      "          (out_proj): NonDynamicallyQuantizableLinear(in_features=512, out_features=512, bias=True)\n",
      "        )\n",
      "        (linear1): Linear(in_features=512, out_features=1024, bias=True)\n",
      "        (dropout): Dropout(p=0.2, inplace=False)\n",
      "        (linear2): Linear(in_features=1024, out_features=512, bias=True)\n",
      "        (norm1): LayerNorm((512,), eps=1e-05, elementwise_affine=True)\n",
      "        (norm2): LayerNorm((512,), eps=1e-05, elementwise_affine=True)\n",
      "        (dropout1): Dropout(p=0.2, inplace=False)\n",
      "        (dropout2): Dropout(p=0.2, inplace=False)\n",
      "      )\n",
      "    )\n",
      "  )\n",
      "  (encoder): Sequential(\n",
      "    (0): Normalize()\n",
      "    (1): Normalize()\n",
      "    (2): Linear(in_features=1, out_features=512, bias=True)\n",
      "  )\n",
      "  (y_encoder): Sequential(\n",
      "    (0): Normalize()\n",
      "    (1): Linear(in_features=1, out_features=512, bias=True)\n",
      "  )\n",
      "  (pos_encoder): NoPositionalEncoding()\n",
      "  (decoder): Sequential(\n",
      "    (0): Linear(in_features=512, out_features=1024, bias=True)\n",
      "    (1): GELU()\n",
      "    (2): Linear(in_features=1024, out_features=1000, bias=True)\n",
      "  )\n",
      "  (criterion): FullSupportBarDistribution()\n",
      ")\n"
     ]
    }
   ],
   "source": [
    "model = result[2]\n",
    "os.makedirs(f'../trained_models/exp1_{SEQ_LEN}_{EMSIZE}_{NLAYERS}_{NUM_BORDERS}_{LR}_{BATCH_SIZE}_{EPOCH}', exist_ok=True)\n",
    "torch.save(model, f'../trained_models/exp1_{SEQ_LEN}_{EMSIZE}_{NLAYERS}_{NUM_BORDERS}_{LR}_{BATCH_SIZE}_{EPOCH}/lcpfn_model_exp1_{SEQ_LEN}_{EMSIZE}_{NLAYERS}_{NUM_BORDERS}_{LR}_{BATCH_SIZE}_{EPOCH}.pth')\n",
    "print(\"Model saved successfully!\")\n",
    "\n",
    "saved_files = save_training_test_data(\n",
    "    train_data=train_data,\n",
    "    test_data_KDKL=test_data_KDKL,\n",
    "    test_data_UD=test_data_UD,\n",
    "    test_data_UL=test_data_UL,\n",
    "    test_data_UDUL=test_data_UDUL,\n",
    "    train_data_indices=train_data_indices,\n",
    "    test_data_indices=test_data_indices,\n",
    "    train_learner_indices=train_learner_indices,\n",
    "    test_learner_indices=test_learner_indices\n",
    ")\n",
    "print(\"Data saved successfully!\")\n",
    "print(model)"
   ]
  },
  {
   "cell_type": "markdown",
   "id": "18d1ceef-30a8-47c7-9754-ed7bf194cd37",
   "metadata": {},
   "source": [
    "### Extrapolate the learning curve with a cutoff"
   ]
  },
  {
   "cell_type": "code",
   "execution_count": 25,
   "id": "489374ee-e0a7-42f2-a739-3a99f9f2dc39",
   "metadata": {
    "execution": {
     "iopub.execute_input": "2025-06-05T19:46:54.594626Z",
     "iopub.status.busy": "2025-06-05T19:46:54.594369Z",
     "iopub.status.idle": "2025-06-05T19:46:54.687555Z",
     "shell.execute_reply": "2025-06-05T19:46:54.686835Z",
     "shell.execute_reply.started": "2025-06-05T19:46:54.594602Z"
    },
    "trusted": true
   },
   "outputs": [
    {
     "data": {
      "text/plain": "TransformerModel(\n  (transformer_encoder): TransformerEncoder(\n    (layers): ModuleList(\n      (0-1): 2 x TransformerEncoderLayer(\n        (self_attn): MultiheadAttention(\n          (out_proj): NonDynamicallyQuantizableLinear(in_features=128, out_features=128, bias=True)\n        )\n        (linear1): Linear(in_features=128, out_features=256, bias=True)\n        (dropout): Dropout(p=0.2, inplace=False)\n        (linear2): Linear(in_features=256, out_features=128, bias=True)\n        (norm1): LayerNorm((128,), eps=1e-05, elementwise_affine=True)\n        (norm2): LayerNorm((128,), eps=1e-05, elementwise_affine=True)\n        (dropout1): Dropout(p=0.2, inplace=False)\n        (dropout2): Dropout(p=0.2, inplace=False)\n      )\n    )\n  )\n  (encoder): Sequential(\n    (0): Normalize()\n    (1): Normalize()\n    (2): Linear(in_features=1, out_features=128, bias=True)\n  )\n  (y_encoder): Sequential(\n    (0): Normalize()\n    (1): Linear(in_features=1, out_features=128, bias=True)\n  )\n  (pos_encoder): NoPositionalEncoding()\n  (decoder): Sequential(\n    (0): Linear(in_features=128, out_features=256, bias=True)\n    (1): GELU()\n    (2): Linear(in_features=256, out_features=1000, bias=True)\n  )\n  (criterion): FullSupportBarDistribution()\n)"
     },
     "execution_count": 25,
     "metadata": {},
     "output_type": "execute_result"
    }
   ],
   "source": [
    "model = torch.load(f'../trained_models/exp1_{SEQ_LEN}_{EMSIZE}_{NLAYERS}_{NUM_BORDERS}_{LR}_{BATCH_SIZE}_{EPOCH}/lcpfn_model_exp1_{SEQ_LEN}_{EMSIZE}_{NLAYERS}_{NUM_BORDERS}_{LR}_{BATCH_SIZE}_{EPOCH}.pth', weights_only=False)\n",
    "model.eval()"
   ]
  },
  {
   "cell_type": "code",
   "execution_count": 29,
   "id": "648854c9",
   "metadata": {
    "execution": {
     "iopub.execute_input": "2025-06-05T19:46:54.688652Z",
     "iopub.status.busy": "2025-06-05T19:46:54.688355Z",
     "iopub.status.idle": "2025-06-05T19:46:54.951835Z",
     "shell.execute_reply": "2025-06-05T19:46:54.951090Z",
     "shell.execute_reply.started": "2025-06-05T19:46:54.688627Z"
    },
    "trusted": true
   },
   "outputs": [
    {
     "data": {
      "text/plain": "<Figure size 640x480 with 1 Axes>",
      "image/png": "[encoded data removed]"
     },
     "metadata": {},
     "output_type": "display_data"
    }
   ],
   "source": [
    "random_idx = random.randint(0, train_data.shape[0] - 1)\n",
    "curve = train_data[250]  # (1, 137)\n",
    "curve = curve[~np.isnan(curve)]\n",
    "\n",
    "y = torch.from_numpy(curve).float().unsqueeze(-1)\n",
    "x = torch.arange(1, y.shape[0] + 1).unsqueeze(-1).float()  \n",
    "\n",
    "# construct \n",
    "num_last_anchor = 20\n",
    "cutoff = len(curve) - num_last_anchor\n",
    "\n",
    "x_train = x[:cutoff]\n",
    "y_train = y[:cutoff]\n",
    "x_test = x[cutoff:]\n",
    "qs = [0.05, 0.5, 0.95]\n",
    "\n",
    "normalizer = lcpfn.utils.identity_normalizer()\n",
    "\n",
    "y_train_norm = normalizer[0](y_train)\n",
    "\n",
    "# forward\n",
    "single_eval_pos = x_train.shape[0]\n",
    "x = torch.cat([x_train, x_test], dim=0).unsqueeze(1)\n",
    "y = y_train.unsqueeze(1)\n",
    "\n",
    "logits = model((x, y), single_eval_pos=single_eval_pos)\n",
    "\n",
    "predictions = normalizer[1](\n",
    "    torch.cat([model.criterion.icdf(logits, q) for q in qs], dim=1)\n",
    ")\n",
    "\n",
    "x_test_np = x[cutoff:].detach().cpu().numpy().flatten()\n",
    "pred_mean = predictions[:, 1].detach().cpu().numpy()\n",
    "pred_lower = predictions[:, 0].detach().cpu().numpy()\n",
    "pred_upper = predictions[:, 2].detach().cpu().numpy()\n",
    "\n",
    "# plot\n",
    "plt.plot(curve, \"black\", label=\"target\")\n",
    "plt.plot(x_test_np, pred_mean, \"blue\", label=\"Extrapolation by PFN\")\n",
    "plt.fill_between(x_test_np, pred_lower, pred_upper, color=\"blue\", alpha=0.2, label=\"CI of 90%\")\n",
    "plt.vlines(cutoff, 0, 1, linewidth=0.5, color=\"k\", label=\"cutoff\")\n",
    "plt.ylim(0, 1)\n",
    "plt.legend(loc=\"lower right\")\n",
    "plt.show()"
   ]
  },
  {
   "cell_type": "code",
   "execution_count": null,
   "id": "84e9eb4d-4704-4957-a3ca-6fa49330f99c",
   "metadata": {
    "collapsed": false,
    "jupyter": {
     "outputs_hidden": false
    },
    "trusted": true
   },
   "outputs": [],
   "source": []
  }
 ],
 "metadata": {
  "kaggle": {
   "accelerator": "gpu",
   "dataSources": [
    {
     "datasetId": 7295287,
     "sourceId": 11627966,
     "sourceType": "datasetVersion"
    },
    {
     "datasetId": 7295371,
     "sourceId": 11628086,
     "sourceType": "datasetVersion"
    }
   ],
   "dockerImageVersionId": 31012,
   "isGpuEnabled": true,
   "isInternetEnabled": false,
   "language": "python",
   "sourceType": "notebook"
  },
  "kernelspec": {
   "display_name": "Python 3",
   "language": "python",
   "name": "python3"
  },
  "language_info": {
   "codemirror_mode": {
    "name": "ipython",
    "version": 3
   },
   "file_extension": ".py",
   "mimetype": "text/x-python",
   "name": "python",
   "nbconvert_exporter": "python",
   "pygments_lexer": "ipython3",
   "version": "3.11.11"
  }
 },
 "nbformat": 4,
 "nbformat_minor": 5
}
